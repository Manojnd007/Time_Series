{
 "cells": [
  {
   "cell_type": "markdown",
   "id": "df24644d",
   "metadata": {},
   "source": [
    "Timeseries"
   ]
  },
  {
   "cell_type": "code",
   "execution_count": 1,
   "id": "0585da76",
   "metadata": {},
   "outputs": [
    {
     "name": "stdout",
     "output_type": "stream",
     "text": [
      "Collecting pandas-datareader\n",
      "  Downloading pandas_datareader-0.10.0-py3-none-any.whl (109 kB)\n",
      "Requirement already satisfied: pandas>=0.23 in c:\\users\\manoj.n.d\\anaconda3\\lib\\site-packages (from pandas-datareader) (1.2.4)\n",
      "Requirement already satisfied: lxml in c:\\users\\manoj.n.d\\anaconda3\\lib\\site-packages (from pandas-datareader) (4.6.3)\n",
      "Requirement already satisfied: requests>=2.19.0 in c:\\users\\manoj.n.d\\anaconda3\\lib\\site-packages (from pandas-datareader) (2.25.1)\n",
      "Requirement already satisfied: python-dateutil>=2.7.3 in c:\\users\\manoj.n.d\\anaconda3\\lib\\site-packages (from pandas>=0.23->pandas-datareader) (2.8.1)\n",
      "Requirement already satisfied: numpy>=1.16.5 in c:\\users\\manoj.n.d\\anaconda3\\lib\\site-packages (from pandas>=0.23->pandas-datareader) (1.20.1)\n",
      "Requirement already satisfied: pytz>=2017.3 in c:\\users\\manoj.n.d\\anaconda3\\lib\\site-packages (from pandas>=0.23->pandas-datareader) (2021.1)\n",
      "Requirement already satisfied: six>=1.5 in c:\\users\\manoj.n.d\\anaconda3\\lib\\site-packages (from python-dateutil>=2.7.3->pandas>=0.23->pandas-datareader) (1.15.0)\n",
      "Requirement already satisfied: certifi>=2017.4.17 in c:\\users\\manoj.n.d\\anaconda3\\lib\\site-packages (from requests>=2.19.0->pandas-datareader) (2020.12.5)\n",
      "Requirement already satisfied: urllib3<1.27,>=1.21.1 in c:\\users\\manoj.n.d\\anaconda3\\lib\\site-packages (from requests>=2.19.0->pandas-datareader) (1.26.4)\n",
      "Requirement already satisfied: idna<3,>=2.5 in c:\\users\\manoj.n.d\\anaconda3\\lib\\site-packages (from requests>=2.19.0->pandas-datareader) (2.10)\n",
      "Requirement already satisfied: chardet<5,>=3.0.2 in c:\\users\\manoj.n.d\\anaconda3\\lib\\site-packages (from requests>=2.19.0->pandas-datareader) (4.0.0)\n",
      "Installing collected packages: pandas-datareader\n",
      "Successfully installed pandas-datareader-0.10.0\n"
     ]
    }
   ],
   "source": [
    "#Pandas data reader\n",
    "!pip install pandas-datareader"
   ]
  },
  {
   "cell_type": "code",
   "execution_count": 2,
   "id": "693a343f",
   "metadata": {},
   "outputs": [],
   "source": [
    "import pandas_datareader as pdr\n",
    "import pandas as pd\n",
    "from datetime import datetime"
   ]
  },
  {
   "cell_type": "code",
   "execution_count": 14,
   "id": "45d8465b",
   "metadata": {
    "scrolled": true
   },
   "outputs": [],
   "source": [
    "df_tesla = pdr.get_data_yahoo('TSLA',start='2017-09-10')"
   ]
  },
  {
   "cell_type": "code",
   "execution_count": 13,
   "id": "1465d603",
   "metadata": {},
   "outputs": [
    {
     "data": {
      "text/html": [
       "<div>\n",
       "<style scoped>\n",
       "    .dataframe tbody tr th:only-of-type {\n",
       "        vertical-align: middle;\n",
       "    }\n",
       "\n",
       "    .dataframe tbody tr th {\n",
       "        vertical-align: top;\n",
       "    }\n",
       "\n",
       "    .dataframe thead th {\n",
       "        text-align: right;\n",
       "    }\n",
       "</style>\n",
       "<table border=\"1\" class=\"dataframe\">\n",
       "  <thead>\n",
       "    <tr style=\"text-align: right;\">\n",
       "      <th></th>\n",
       "      <th>High</th>\n",
       "      <th>Low</th>\n",
       "      <th>Open</th>\n",
       "      <th>Close</th>\n",
       "      <th>Volume</th>\n",
       "      <th>Adj Close</th>\n",
       "    </tr>\n",
       "    <tr>\n",
       "      <th>Date</th>\n",
       "      <th></th>\n",
       "      <th></th>\n",
       "      <th></th>\n",
       "      <th></th>\n",
       "      <th></th>\n",
       "      <th></th>\n",
       "    </tr>\n",
       "  </thead>\n",
       "  <tbody>\n",
       "    <tr>\n",
       "      <th>2019-04-11</th>\n",
       "      <td>19.799999</td>\n",
       "      <td>18.650000</td>\n",
       "      <td>19.000000</td>\n",
       "      <td>19.049999</td>\n",
       "      <td>89144982.0</td>\n",
       "      <td>16.438549</td>\n",
       "    </tr>\n",
       "    <tr>\n",
       "      <th>2019-04-12</th>\n",
       "      <td>19.900000</td>\n",
       "      <td>19.200001</td>\n",
       "      <td>19.299999</td>\n",
       "      <td>19.750000</td>\n",
       "      <td>29799546.0</td>\n",
       "      <td>17.042591</td>\n",
       "    </tr>\n",
       "    <tr>\n",
       "      <th>2019-04-15</th>\n",
       "      <td>23.700001</td>\n",
       "      <td>19.900000</td>\n",
       "      <td>20.000000</td>\n",
       "      <td>23.650000</td>\n",
       "      <td>80684771.0</td>\n",
       "      <td>20.407963</td>\n",
       "    </tr>\n",
       "    <tr>\n",
       "      <th>2019-04-16</th>\n",
       "      <td>26.950001</td>\n",
       "      <td>24.200001</td>\n",
       "      <td>24.500000</td>\n",
       "      <td>25.600000</td>\n",
       "      <td>98193853.0</td>\n",
       "      <td>22.090651</td>\n",
       "    </tr>\n",
       "    <tr>\n",
       "      <th>2019-04-18</th>\n",
       "      <td>26.850000</td>\n",
       "      <td>25.150000</td>\n",
       "      <td>26.350000</td>\n",
       "      <td>26.150000</td>\n",
       "      <td>49134384.0</td>\n",
       "      <td>22.565254</td>\n",
       "    </tr>\n",
       "    <tr>\n",
       "      <th>...</th>\n",
       "      <td>...</td>\n",
       "      <td>...</td>\n",
       "      <td>...</td>\n",
       "      <td>...</td>\n",
       "      <td>...</td>\n",
       "      <td>...</td>\n",
       "    </tr>\n",
       "    <tr>\n",
       "      <th>2022-08-18</th>\n",
       "      <td>31.450001</td>\n",
       "      <td>31.000000</td>\n",
       "      <td>31.250000</td>\n",
       "      <td>31.200001</td>\n",
       "      <td>1710594.0</td>\n",
       "      <td>31.200001</td>\n",
       "    </tr>\n",
       "    <tr>\n",
       "      <th>2022-08-19</th>\n",
       "      <td>31.600000</td>\n",
       "      <td>31.100000</td>\n",
       "      <td>31.299999</td>\n",
       "      <td>31.150000</td>\n",
       "      <td>2359422.0</td>\n",
       "      <td>31.150000</td>\n",
       "    </tr>\n",
       "    <tr>\n",
       "      <th>2022-08-22</th>\n",
       "      <td>31.200001</td>\n",
       "      <td>30.799999</td>\n",
       "      <td>31.200001</td>\n",
       "      <td>30.900000</td>\n",
       "      <td>1451765.0</td>\n",
       "      <td>30.900000</td>\n",
       "    </tr>\n",
       "    <tr>\n",
       "      <th>2022-08-23</th>\n",
       "      <td>30.850000</td>\n",
       "      <td>30.549999</td>\n",
       "      <td>30.700001</td>\n",
       "      <td>30.700001</td>\n",
       "      <td>1363705.0</td>\n",
       "      <td>30.700001</td>\n",
       "    </tr>\n",
       "    <tr>\n",
       "      <th>2022-08-24</th>\n",
       "      <td>30.850000</td>\n",
       "      <td>30.700001</td>\n",
       "      <td>30.750000</td>\n",
       "      <td>30.799999</td>\n",
       "      <td>454853.0</td>\n",
       "      <td>30.799999</td>\n",
       "    </tr>\n",
       "  </tbody>\n",
       "</table>\n",
       "<p>834 rows × 6 columns</p>\n",
       "</div>"
      ],
      "text/plain": [
       "                 High        Low       Open      Close      Volume  Adj Close\n",
       "Date                                                                         \n",
       "2019-04-11  19.799999  18.650000  19.000000  19.049999  89144982.0  16.438549\n",
       "2019-04-12  19.900000  19.200001  19.299999  19.750000  29799546.0  17.042591\n",
       "2019-04-15  23.700001  19.900000  20.000000  23.650000  80684771.0  20.407963\n",
       "2019-04-16  26.950001  24.200001  24.500000  25.600000  98193853.0  22.090651\n",
       "2019-04-18  26.850000  25.150000  26.350000  26.150000  49134384.0  22.565254\n",
       "...               ...        ...        ...        ...         ...        ...\n",
       "2022-08-18  31.450001  31.000000  31.250000  31.200001   1710594.0  31.200001\n",
       "2022-08-19  31.600000  31.100000  31.299999  31.150000   2359422.0  31.150000\n",
       "2022-08-22  31.200001  30.799999  31.200001  30.900000   1451765.0  30.900000\n",
       "2022-08-23  30.850000  30.549999  30.700001  30.700001   1363705.0  30.700001\n",
       "2022-08-24  30.850000  30.700001  30.750000  30.799999    454853.0  30.799999\n",
       "\n",
       "[834 rows x 6 columns]"
      ]
     },
     "execution_count": 13,
     "metadata": {},
     "output_type": "execute_result"
    }
   ],
   "source": [
    "#Getting the RVNL.NS (that is railway vikas nigam limited share)\n",
    "pdr.get_data_yahoo('RVNL.NS',start='2019-01-01')"
   ]
  },
  {
   "cell_type": "code",
   "execution_count": 71,
   "id": "ebc9d19b",
   "metadata": {},
   "outputs": [
    {
     "data": {
      "text/html": [
       "<div>\n",
       "<style scoped>\n",
       "    .dataframe tbody tr th:only-of-type {\n",
       "        vertical-align: middle;\n",
       "    }\n",
       "\n",
       "    .dataframe tbody tr th {\n",
       "        vertical-align: top;\n",
       "    }\n",
       "\n",
       "    .dataframe thead th {\n",
       "        text-align: right;\n",
       "    }\n",
       "</style>\n",
       "<table border=\"1\" class=\"dataframe\">\n",
       "  <thead>\n",
       "    <tr style=\"text-align: right;\">\n",
       "      <th></th>\n",
       "      <th>High</th>\n",
       "      <th>Low</th>\n",
       "      <th>Open</th>\n",
       "      <th>Close</th>\n",
       "      <th>Volume</th>\n",
       "      <th>Adj Close</th>\n",
       "    </tr>\n",
       "    <tr>\n",
       "      <th>Date</th>\n",
       "      <th></th>\n",
       "      <th></th>\n",
       "      <th></th>\n",
       "      <th></th>\n",
       "      <th></th>\n",
       "      <th></th>\n",
       "    </tr>\n",
       "  </thead>\n",
       "  <tbody>\n",
       "    <tr>\n",
       "      <th>2017-09-11</th>\n",
       "      <td>72.741997</td>\n",
       "      <td>70.000000</td>\n",
       "      <td>70.269997</td>\n",
       "      <td>72.737999</td>\n",
       "      <td>38335500.0</td>\n",
       "      <td>72.737999</td>\n",
       "    </tr>\n",
       "    <tr>\n",
       "      <th>2017-09-12</th>\n",
       "      <td>73.751999</td>\n",
       "      <td>72.080002</td>\n",
       "      <td>72.898003</td>\n",
       "      <td>72.550003</td>\n",
       "      <td>29864500.0</td>\n",
       "      <td>72.550003</td>\n",
       "    </tr>\n",
       "    <tr>\n",
       "      <th>2017-09-13</th>\n",
       "      <td>73.613998</td>\n",
       "      <td>71.917999</td>\n",
       "      <td>72.764000</td>\n",
       "      <td>73.246002</td>\n",
       "      <td>20926000.0</td>\n",
       "      <td>73.246002</td>\n",
       "    </tr>\n",
       "    <tr>\n",
       "      <th>2017-09-14</th>\n",
       "      <td>75.592003</td>\n",
       "      <td>72.526001</td>\n",
       "      <td>72.865997</td>\n",
       "      <td>75.528000</td>\n",
       "      <td>36012500.0</td>\n",
       "      <td>75.528000</td>\n",
       "    </tr>\n",
       "    <tr>\n",
       "      <th>2017-09-15</th>\n",
       "      <td>76.000000</td>\n",
       "      <td>74.540001</td>\n",
       "      <td>74.902000</td>\n",
       "      <td>75.961998</td>\n",
       "      <td>27102500.0</td>\n",
       "      <td>75.961998</td>\n",
       "    </tr>\n",
       "  </tbody>\n",
       "</table>\n",
       "</div>"
      ],
      "text/plain": [
       "                 High        Low       Open      Close      Volume  Adj Close\n",
       "Date                                                                         \n",
       "2017-09-11  72.741997  70.000000  70.269997  72.737999  38335500.0  72.737999\n",
       "2017-09-12  73.751999  72.080002  72.898003  72.550003  29864500.0  72.550003\n",
       "2017-09-13  73.613998  71.917999  72.764000  73.246002  20926000.0  73.246002\n",
       "2017-09-14  75.592003  72.526001  72.865997  75.528000  36012500.0  75.528000\n",
       "2017-09-15  76.000000  74.540001  74.902000  75.961998  27102500.0  75.961998"
      ]
     },
     "execution_count": 71,
     "metadata": {},
     "output_type": "execute_result"
    }
   ],
   "source": [
    "#We are checkig for the tesla\n",
    "df_tesla.head()"
   ]
  },
  {
   "cell_type": "code",
   "execution_count": 18,
   "id": "d75511c3",
   "metadata": {},
   "outputs": [],
   "source": [
    "import matplotlib.pyplot as plt\n",
    "import seaborn as sns"
   ]
  },
  {
   "cell_type": "code",
   "execution_count": 22,
   "id": "b3ef4717",
   "metadata": {
    "scrolled": true
   },
   "outputs": [
    {
     "data": {
      "text/plain": [
       "<AxesSubplot:xlabel='Date'>"
      ]
     },
     "execution_count": 22,
     "metadata": {},
     "output_type": "execute_result"
    },
    {
     "data": {
      "text/plain": [
       "<Figure size 1296x576 with 0 Axes>"
      ]
     },
     "metadata": {},
     "output_type": "display_data"
    },
    {
     "data": {
      "image/png": "[encoded data removed]",
      "text/plain": [
       "<Figure size 1080x576 with 1 Axes>"
      ]
     },
     "metadata": {
      "needs_background": "light"
     },
     "output_type": "display_data"
    }
   ],
   "source": [
    "#lets plot this data\n",
    "plt.figure(figsize=(18,8))\n",
    "df_tesla.plot(figsize=(15,8))"
   ]
  },
  {
   "cell_type": "code",
   "execution_count": 24,
   "id": "611970c6",
   "metadata": {},
   "outputs": [
    {
     "data": {
      "text/plain": [
       "<AxesSubplot:xlabel='Date'>"
      ]
     },
     "execution_count": 24,
     "metadata": {},
     "output_type": "execute_result"
    },
    {
     "data": {
      "image/png": "[encoded data removed]",
      "text/plain": [
       "<Figure size 1008x432 with 1 Axes>"
      ]
     },
     "metadata": {
      "needs_background": "light"
     },
     "output_type": "display_data"
    }
   ],
   "source": [
    "#Lets plot the data with the \n",
    "df_tesla['High'].plot(figsize=(14,6))"
   ]
  },
  {
   "cell_type": "code",
   "execution_count": 25,
   "id": "750c2da6",
   "metadata": {},
   "outputs": [
    {
     "data": {
      "text/plain": [
       "<AxesSubplot:xlabel='Date'>"
      ]
     },
     "execution_count": 25,
     "metadata": {},
     "output_type": "execute_result"
    },
    {
     "data": {
      "image/png": "[encoded data removed]",
      "text/plain": [
       "<Figure size 1008x432 with 1 Axes>"
      ]
     },
     "metadata": {
      "needs_background": "light"
     },
     "output_type": "display_data"
    }
   ],
   "source": [
    "#X_limit and y_limit\n",
    "df_tesla['High'].plot(xlim=['2020-01-01','2022-08-23'],figsize=(14,6))"
   ]
  },
  {
   "cell_type": "code",
   "execution_count": 29,
   "id": "12dd9436",
   "metadata": {},
   "outputs": [
    {
     "data": {
      "text/plain": [
       "<AxesSubplot:xlabel='Date'>"
      ]
     },
     "execution_count": 29,
     "metadata": {},
     "output_type": "execute_result"
    },
    {
     "data": {
      "image/png": "[encoded data removed]",
      "text/plain": [
       "<Figure size 1008x432 with 1 Axes>"
      ]
     },
     "metadata": {
      "needs_background": "light"
     },
     "output_type": "display_data"
    }
   ],
   "source": [
    "#X_limit and y_limit\n",
    "df_tesla['High'].plot(xlim=['2020-01-01','2022-08-23'],figsize=(14,6),ls='--',c='Green')"
   ]
  },
  {
   "cell_type": "code",
   "execution_count": 72,
   "id": "82094248",
   "metadata": {},
   "outputs": [
    {
     "data": {
      "text/plain": [
       "DatetimeIndex(['2017-09-11', '2017-09-12', '2017-09-13', '2017-09-14',\n",
       "               '2017-09-15', '2017-09-18', '2017-09-19', '2017-09-20',\n",
       "               '2017-09-21', '2017-09-22',\n",
       "               ...\n",
       "               '2022-08-10', '2022-08-11', '2022-08-12', '2022-08-15',\n",
       "               '2022-08-16', '2022-08-17', '2022-08-18', '2022-08-19',\n",
       "               '2022-08-22', '2022-08-23'],\n",
       "              dtype='datetime64[ns]', name='Date', length=1247, freq=None)"
      ]
     },
     "execution_count": 72,
     "metadata": {},
     "output_type": "execute_result"
    }
   ],
   "source": [
    "df_tesla.index"
   ]
  },
  {
   "cell_type": "code",
   "execution_count": 49,
   "id": "9cb44c00",
   "metadata": {},
   "outputs": [],
   "source": [
    "#Lets read the specific  index which I choose is yesterday\n",
    "index = df_tesla.loc['2020-08-23':'2022-08-23'].index"
   ]
  },
  {
   "cell_type": "code",
   "execution_count": 53,
   "id": "e3b743b4",
   "metadata": {},
   "outputs": [],
   "source": [
    "#open share attribute\n",
    "share_open = df_tesla.loc['2020-08-23':'2022-08-23']['Open']"
   ]
  },
  {
   "cell_type": "code",
   "execution_count": 73,
   "id": "960c662e",
   "metadata": {},
   "outputs": [
    {
     "data": {
      "text/plain": [
       "[<matplotlib.lines.Line2D at 0x1a651f81910>]"
      ]
     },
     "execution_count": 73,
     "metadata": {},
     "output_type": "execute_result"
    },
    {
     "data": {
      "image/png": "[encoded data removed]",
      "text/plain": [
       "<Figure size 1296x576 with 1 Axes>"
      ]
     },
     "metadata": {
      "needs_background": "light"
     },
     "output_type": "display_data"
    }
   ],
   "source": [
    "figure, ax = plt.subplots(figsize=(18,8))\n",
    "plt.tight_layout()\n",
    "#TO prevent the overlapping \n",
    "figure.autofmt_xdate()\n",
    "ax.plot(index, share_open)"
   ]
  },
  {
   "cell_type": "code",
   "execution_count": 64,
   "id": "363c6991",
   "metadata": {
    "scrolled": false
   },
   "outputs": [],
   "source": [
    "#Datetime index\n",
    "tesla_reset_index = df_tesla.reset_index()"
   ]
  },
  {
   "cell_type": "code",
   "execution_count": 78,
   "id": "0ac02162",
   "metadata": {},
   "outputs": [
    {
     "data": {
      "text/plain": [
       "Date         datetime64[ns]\n",
       "High                float64\n",
       "Low                 float64\n",
       "Open                float64\n",
       "Close               float64\n",
       "Volume              float64\n",
       "Adj Close           float64\n",
       "dtype: object"
      ]
     },
     "execution_count": 78,
     "metadata": {},
     "output_type": "execute_result"
    }
   ],
   "source": [
    "tesla_reset_index.dtypes"
   ]
  },
  {
   "cell_type": "code",
   "execution_count": 80,
   "id": "5dff8a44",
   "metadata": {
    "scrolled": true
   },
   "outputs": [
    {
     "data": {
      "text/html": [
       "<div>\n",
       "<style scoped>\n",
       "    .dataframe tbody tr th:only-of-type {\n",
       "        vertical-align: middle;\n",
       "    }\n",
       "\n",
       "    .dataframe tbody tr th {\n",
       "        vertical-align: top;\n",
       "    }\n",
       "\n",
       "    .dataframe thead th {\n",
       "        text-align: right;\n",
       "    }\n",
       "</style>\n",
       "<table border=\"1\" class=\"dataframe\">\n",
       "  <thead>\n",
       "    <tr style=\"text-align: right;\">\n",
       "      <th></th>\n",
       "      <th>High</th>\n",
       "      <th>Low</th>\n",
       "      <th>Open</th>\n",
       "      <th>Close</th>\n",
       "      <th>Volume</th>\n",
       "      <th>Adj Close</th>\n",
       "    </tr>\n",
       "    <tr>\n",
       "      <th>Date</th>\n",
       "      <th></th>\n",
       "      <th></th>\n",
       "      <th></th>\n",
       "      <th></th>\n",
       "      <th></th>\n",
       "      <th></th>\n",
       "    </tr>\n",
       "  </thead>\n",
       "  <tbody>\n",
       "    <tr>\n",
       "      <th>2017-09-11</th>\n",
       "      <td>72.741997</td>\n",
       "      <td>70.000000</td>\n",
       "      <td>70.269997</td>\n",
       "      <td>72.737999</td>\n",
       "      <td>38335500.0</td>\n",
       "      <td>72.737999</td>\n",
       "    </tr>\n",
       "    <tr>\n",
       "      <th>2017-09-12</th>\n",
       "      <td>73.751999</td>\n",
       "      <td>72.080002</td>\n",
       "      <td>72.898003</td>\n",
       "      <td>72.550003</td>\n",
       "      <td>29864500.0</td>\n",
       "      <td>72.550003</td>\n",
       "    </tr>\n",
       "    <tr>\n",
       "      <th>2017-09-13</th>\n",
       "      <td>73.613998</td>\n",
       "      <td>71.917999</td>\n",
       "      <td>72.764000</td>\n",
       "      <td>73.246002</td>\n",
       "      <td>20926000.0</td>\n",
       "      <td>73.246002</td>\n",
       "    </tr>\n",
       "    <tr>\n",
       "      <th>2017-09-14</th>\n",
       "      <td>75.592003</td>\n",
       "      <td>72.526001</td>\n",
       "      <td>72.865997</td>\n",
       "      <td>75.528000</td>\n",
       "      <td>36012500.0</td>\n",
       "      <td>75.528000</td>\n",
       "    </tr>\n",
       "    <tr>\n",
       "      <th>2017-09-15</th>\n",
       "      <td>76.000000</td>\n",
       "      <td>74.540001</td>\n",
       "      <td>74.902000</td>\n",
       "      <td>75.961998</td>\n",
       "      <td>27102500.0</td>\n",
       "      <td>75.961998</td>\n",
       "    </tr>\n",
       "    <tr>\n",
       "      <th>...</th>\n",
       "      <td>...</td>\n",
       "      <td>...</td>\n",
       "      <td>...</td>\n",
       "      <td>...</td>\n",
       "      <td>...</td>\n",
       "      <td>...</td>\n",
       "    </tr>\n",
       "    <tr>\n",
       "      <th>2022-08-17</th>\n",
       "      <td>928.969971</td>\n",
       "      <td>900.099976</td>\n",
       "      <td>910.190002</td>\n",
       "      <td>911.989990</td>\n",
       "      <td>22922000.0</td>\n",
       "      <td>911.989990</td>\n",
       "    </tr>\n",
       "    <tr>\n",
       "      <th>2022-08-18</th>\n",
       "      <td>919.500000</td>\n",
       "      <td>905.559998</td>\n",
       "      <td>918.000000</td>\n",
       "      <td>908.609985</td>\n",
       "      <td>15833500.0</td>\n",
       "      <td>908.609985</td>\n",
       "    </tr>\n",
       "    <tr>\n",
       "      <th>2022-08-19</th>\n",
       "      <td>901.080017</td>\n",
       "      <td>877.500000</td>\n",
       "      <td>897.000000</td>\n",
       "      <td>890.000000</td>\n",
       "      <td>20417900.0</td>\n",
       "      <td>890.000000</td>\n",
       "    </tr>\n",
       "    <tr>\n",
       "      <th>2022-08-22</th>\n",
       "      <td>877.200012</td>\n",
       "      <td>858.890015</td>\n",
       "      <td>875.739990</td>\n",
       "      <td>869.739990</td>\n",
       "      <td>18614400.0</td>\n",
       "      <td>869.739990</td>\n",
       "    </tr>\n",
       "    <tr>\n",
       "      <th>2022-08-23</th>\n",
       "      <td>896.479980</td>\n",
       "      <td>863.770020</td>\n",
       "      <td>874.359985</td>\n",
       "      <td>889.359985</td>\n",
       "      <td>21269900.0</td>\n",
       "      <td>889.359985</td>\n",
       "    </tr>\n",
       "  </tbody>\n",
       "</table>\n",
       "<p>1247 rows × 6 columns</p>\n",
       "</div>"
      ],
      "text/plain": [
       "                  High         Low        Open       Close      Volume  \\\n",
       "Date                                                                     \n",
       "2017-09-11   72.741997   70.000000   70.269997   72.737999  38335500.0   \n",
       "2017-09-12   73.751999   72.080002   72.898003   72.550003  29864500.0   \n",
       "2017-09-13   73.613998   71.917999   72.764000   73.246002  20926000.0   \n",
       "2017-09-14   75.592003   72.526001   72.865997   75.528000  36012500.0   \n",
       "2017-09-15   76.000000   74.540001   74.902000   75.961998  27102500.0   \n",
       "...                ...         ...         ...         ...         ...   \n",
       "2022-08-17  928.969971  900.099976  910.190002  911.989990  22922000.0   \n",
       "2022-08-18  919.500000  905.559998  918.000000  908.609985  15833500.0   \n",
       "2022-08-19  901.080017  877.500000  897.000000  890.000000  20417900.0   \n",
       "2022-08-22  877.200012  858.890015  875.739990  869.739990  18614400.0   \n",
       "2022-08-23  896.479980  863.770020  874.359985  889.359985  21269900.0   \n",
       "\n",
       "             Adj Close  \n",
       "Date                    \n",
       "2017-09-11   72.737999  \n",
       "2017-09-12   72.550003  \n",
       "2017-09-13   73.246002  \n",
       "2017-09-14   75.528000  \n",
       "2017-09-15   75.961998  \n",
       "...                ...  \n",
       "2022-08-17  911.989990  \n",
       "2022-08-18  908.609985  \n",
       "2022-08-19  890.000000  \n",
       "2022-08-22  869.739990  \n",
       "2022-08-23  889.359985  \n",
       "\n",
       "[1247 rows x 6 columns]"
      ]
     },
     "execution_count": 80,
     "metadata": {},
     "output_type": "execute_result"
    }
   ],
   "source": [
    "#Reconverting the attribute date to index\n",
    "tesla_reset_index.set_index('Date',drop=True)"
   ]
  },
  {
   "cell_type": "code",
   "execution_count": 81,
   "id": "047397de",
   "metadata": {},
   "outputs": [],
   "source": [
    "#Datetime\n",
    "\n",
    "from datetime import datetime"
   ]
  },
  {
   "cell_type": "markdown",
   "id": "c0b3541b",
   "metadata": {},
   "source": [
    "datetime(year, month, day[, hour[, minute[, second[, microsecond[,tzinfo]]]]])`"
   ]
  },
  {
   "cell_type": "code",
   "execution_count": 83,
   "id": "c739e944",
   "metadata": {
    "scrolled": true
   },
   "outputs": [
    {
     "data": {
      "text/plain": [
       "datetime.datetime(2022, 8, 24, 0, 0)"
      ]
     },
     "execution_count": 83,
     "metadata": {},
     "output_type": "execute_result"
    }
   ],
   "source": [
    "datetime(2022,8,24)"
   ]
  },
  {
   "cell_type": "code",
   "execution_count": 84,
   "id": "654f0469",
   "metadata": {},
   "outputs": [
    {
     "data": {
      "text/plain": [
       "datetime.datetime(2022, 8, 24, 13, 46, 1, 503681)"
      ]
     },
     "execution_count": 84,
     "metadata": {},
     "output_type": "execute_result"
    }
   ],
   "source": [
    "datetime.now()"
   ]
  },
  {
   "cell_type": "code",
   "execution_count": 85,
   "id": "01ec73ad",
   "metadata": {},
   "outputs": [],
   "source": [
    "def add_num(num1,num2):\n",
    "    return(num1,num2)"
   ]
  },
  {
   "cell_type": "code",
   "execution_count": 86,
   "id": "db677d29",
   "metadata": {},
   "outputs": [
    {
     "name": "stdout",
     "output_type": "stream",
     "text": [
      "0:00:00\n"
     ]
    }
   ],
   "source": [
    "#We can play with it\n",
    "num1=10\n",
    "num2=30\n",
    "start_time = datetime.now()\n",
    "add_num(num1,num2)\n",
    "end_time = datetime.now()\n",
    "print(end_time-start_time)"
   ]
  },
  {
   "cell_type": "code",
   "execution_count": 88,
   "id": "6ef879ba",
   "metadata": {},
   "outputs": [],
   "source": [
    "date = datetime(2022,8,24)"
   ]
  },
  {
   "cell_type": "code",
   "execution_count": 89,
   "id": "5330904b",
   "metadata": {},
   "outputs": [
    {
     "data": {
      "text/plain": [
       "datetime.date(2022, 8, 24)"
      ]
     },
     "execution_count": 89,
     "metadata": {},
     "output_type": "execute_result"
    }
   ],
   "source": [
    "date.date()"
   ]
  },
  {
   "cell_type": "code",
   "execution_count": 90,
   "id": "b28d8e54",
   "metadata": {},
   "outputs": [
    {
     "data": {
      "text/plain": [
       "24"
      ]
     },
     "execution_count": 90,
     "metadata": {},
     "output_type": "execute_result"
    }
   ],
   "source": [
    "date.day"
   ]
  },
  {
   "cell_type": "code",
   "execution_count": 91,
   "id": "ba563947",
   "metadata": {},
   "outputs": [
    {
     "data": {
      "text/plain": [
       "2"
      ]
     },
     "execution_count": 91,
     "metadata": {},
     "output_type": "execute_result"
    }
   ],
   "source": [
    "date.weekday()"
   ]
  },
  {
   "cell_type": "code",
   "execution_count": 93,
   "id": "d2befbc8",
   "metadata": {},
   "outputs": [
    {
     "data": {
      "text/plain": [
       "2022"
      ]
     },
     "execution_count": 93,
     "metadata": {},
     "output_type": "execute_result"
    }
   ],
   "source": [
    "date.year"
   ]
  },
  {
   "cell_type": "code",
   "execution_count": 94,
   "id": "afe33502",
   "metadata": {},
   "outputs": [
    {
     "data": {
      "text/plain": [
       "8"
      ]
     },
     "execution_count": 94,
     "metadata": {},
     "output_type": "execute_result"
    }
   ],
   "source": [
    "date.month"
   ]
  },
  {
   "cell_type": "markdown",
   "id": "7c4556c9",
   "metadata": {},
   "source": [
    "### Time resampling"
   ]
  },
  {
   "cell_type": "code",
   "execution_count": 95,
   "id": "dcda51a0",
   "metadata": {},
   "outputs": [
    {
     "data": {
      "text/html": [
       "<div>\n",
       "<style scoped>\n",
       "    .dataframe tbody tr th:only-of-type {\n",
       "        vertical-align: middle;\n",
       "    }\n",
       "\n",
       "    .dataframe tbody tr th {\n",
       "        vertical-align: top;\n",
       "    }\n",
       "\n",
       "    .dataframe thead th {\n",
       "        text-align: right;\n",
       "    }\n",
       "</style>\n",
       "<table border=\"1\" class=\"dataframe\">\n",
       "  <thead>\n",
       "    <tr style=\"text-align: right;\">\n",
       "      <th></th>\n",
       "      <th>High</th>\n",
       "      <th>Low</th>\n",
       "      <th>Open</th>\n",
       "      <th>Close</th>\n",
       "      <th>Volume</th>\n",
       "      <th>Adj Close</th>\n",
       "    </tr>\n",
       "    <tr>\n",
       "      <th>Date</th>\n",
       "      <th></th>\n",
       "      <th></th>\n",
       "      <th></th>\n",
       "      <th></th>\n",
       "      <th></th>\n",
       "      <th></th>\n",
       "    </tr>\n",
       "  </thead>\n",
       "  <tbody>\n",
       "    <tr>\n",
       "      <th>2017-09-11</th>\n",
       "      <td>72.741997</td>\n",
       "      <td>70.000000</td>\n",
       "      <td>70.269997</td>\n",
       "      <td>72.737999</td>\n",
       "      <td>38335500.0</td>\n",
       "      <td>72.737999</td>\n",
       "    </tr>\n",
       "    <tr>\n",
       "      <th>2017-09-12</th>\n",
       "      <td>73.751999</td>\n",
       "      <td>72.080002</td>\n",
       "      <td>72.898003</td>\n",
       "      <td>72.550003</td>\n",
       "      <td>29864500.0</td>\n",
       "      <td>72.550003</td>\n",
       "    </tr>\n",
       "    <tr>\n",
       "      <th>2017-09-13</th>\n",
       "      <td>73.613998</td>\n",
       "      <td>71.917999</td>\n",
       "      <td>72.764000</td>\n",
       "      <td>73.246002</td>\n",
       "      <td>20926000.0</td>\n",
       "      <td>73.246002</td>\n",
       "    </tr>\n",
       "    <tr>\n",
       "      <th>2017-09-14</th>\n",
       "      <td>75.592003</td>\n",
       "      <td>72.526001</td>\n",
       "      <td>72.865997</td>\n",
       "      <td>75.528000</td>\n",
       "      <td>36012500.0</td>\n",
       "      <td>75.528000</td>\n",
       "    </tr>\n",
       "    <tr>\n",
       "      <th>2017-09-15</th>\n",
       "      <td>76.000000</td>\n",
       "      <td>74.540001</td>\n",
       "      <td>74.902000</td>\n",
       "      <td>75.961998</td>\n",
       "      <td>27102500.0</td>\n",
       "      <td>75.961998</td>\n",
       "    </tr>\n",
       "  </tbody>\n",
       "</table>\n",
       "</div>"
      ],
      "text/plain": [
       "                 High        Low       Open      Close      Volume  Adj Close\n",
       "Date                                                                         \n",
       "2017-09-11  72.741997  70.000000  70.269997  72.737999  38335500.0  72.737999\n",
       "2017-09-12  73.751999  72.080002  72.898003  72.550003  29864500.0  72.550003\n",
       "2017-09-13  73.613998  71.917999  72.764000  73.246002  20926000.0  73.246002\n",
       "2017-09-14  75.592003  72.526001  72.865997  75.528000  36012500.0  75.528000\n",
       "2017-09-15  76.000000  74.540001  74.902000  75.961998  27102500.0  75.961998"
      ]
     },
     "execution_count": 95,
     "metadata": {},
     "output_type": "execute_result"
    }
   ],
   "source": [
    "df_tesla.head()"
   ]
  },
  {
   "cell_type": "markdown",
   "id": "1e34d2eb",
   "metadata": {},
   "source": [
    "rule,\n",
    "    axis=0,\n",
    "    closed: 'Optional[str]' = None,\n",
    "    label: 'Optional[str]' = None,\n",
    "    convention: 'str' = 'start',\n",
    "    kind: 'Optional[str]' = None,\n",
    "    loffset=None,\n",
    "    base: 'Optional[int]' = None,\n",
    "    on=None,\n",
    "    level=None,\n",
    "    origin: 'Union[str, TimestampConvertibleTypes]' = 'start_day',\n",
    "    offset: 'Optional[TimedeltaConvertibleTypes]' = None,"
   ]
  },
  {
   "cell_type": "markdown",
   "id": "9f6a17fa",
   "metadata": {},
   "source": [
    "There are many types of tules\n",
    "\n",
    "rule = 'B' --> BDay of BusinessDay\n",
    "rule = 'C -->CDay or CustomBusinessDay\n",
    "rule = 'W' -->One week, optionally anchored on a day of the week\n",
    "etc...."
   ]
  },
  {
   "cell_type": "code",
   "execution_count": 96,
   "id": "0feff924",
   "metadata": {
    "scrolled": true
   },
   "outputs": [
    {
     "data": {
      "text/html": [
       "<div>\n",
       "<style scoped>\n",
       "    .dataframe tbody tr th:only-of-type {\n",
       "        vertical-align: middle;\n",
       "    }\n",
       "\n",
       "    .dataframe tbody tr th {\n",
       "        vertical-align: top;\n",
       "    }\n",
       "\n",
       "    .dataframe thead th {\n",
       "        text-align: right;\n",
       "    }\n",
       "</style>\n",
       "<table border=\"1\" class=\"dataframe\">\n",
       "  <thead>\n",
       "    <tr style=\"text-align: right;\">\n",
       "      <th></th>\n",
       "      <th>High</th>\n",
       "      <th>Low</th>\n",
       "      <th>Open</th>\n",
       "      <th>Close</th>\n",
       "      <th>Volume</th>\n",
       "      <th>Adj Close</th>\n",
       "    </tr>\n",
       "    <tr>\n",
       "      <th>Date</th>\n",
       "      <th></th>\n",
       "      <th></th>\n",
       "      <th></th>\n",
       "      <th></th>\n",
       "      <th></th>\n",
       "      <th></th>\n",
       "    </tr>\n",
       "  </thead>\n",
       "  <tbody>\n",
       "    <tr>\n",
       "      <th>2017-12-31</th>\n",
       "      <td>60.891998</td>\n",
       "      <td>58.526001</td>\n",
       "      <td>59.900002</td>\n",
       "      <td>59.852001</td>\n",
       "      <td>16220500.0</td>\n",
       "      <td>59.852001</td>\n",
       "    </tr>\n",
       "    <tr>\n",
       "      <th>2018-12-31</th>\n",
       "      <td>52.066002</td>\n",
       "      <td>48.917999</td>\n",
       "      <td>50.556000</td>\n",
       "      <td>50.112000</td>\n",
       "      <td>15403500.0</td>\n",
       "      <td>50.112000</td>\n",
       "    </tr>\n",
       "    <tr>\n",
       "      <th>2019-12-31</th>\n",
       "      <td>37.335999</td>\n",
       "      <td>35.397999</td>\n",
       "      <td>36.220001</td>\n",
       "      <td>35.793999</td>\n",
       "      <td>12328000.0</td>\n",
       "      <td>35.793999</td>\n",
       "    </tr>\n",
       "    <tr>\n",
       "      <th>2020-12-31</th>\n",
       "      <td>80.972000</td>\n",
       "      <td>70.101997</td>\n",
       "      <td>74.940002</td>\n",
       "      <td>72.244003</td>\n",
       "      <td>17357700.0</td>\n",
       "      <td>72.244003</td>\n",
       "    </tr>\n",
       "    <tr>\n",
       "      <th>2021-12-31</th>\n",
       "      <td>566.210022</td>\n",
       "      <td>539.489990</td>\n",
       "      <td>552.549988</td>\n",
       "      <td>563.000000</td>\n",
       "      <td>9800600.0</td>\n",
       "      <td>563.000000</td>\n",
       "    </tr>\n",
       "    <tr>\n",
       "      <th>2022-12-31</th>\n",
       "      <td>653.919983</td>\n",
       "      <td>620.570007</td>\n",
       "      <td>623.849976</td>\n",
       "      <td>628.159973</td>\n",
       "      <td>15833500.0</td>\n",
       "      <td>628.159973</td>\n",
       "    </tr>\n",
       "  </tbody>\n",
       "</table>\n",
       "</div>"
      ],
      "text/plain": [
       "                  High         Low        Open       Close      Volume  \\\n",
       "Date                                                                     \n",
       "2017-12-31   60.891998   58.526001   59.900002   59.852001  16220500.0   \n",
       "2018-12-31   52.066002   48.917999   50.556000   50.112000  15403500.0   \n",
       "2019-12-31   37.335999   35.397999   36.220001   35.793999  12328000.0   \n",
       "2020-12-31   80.972000   70.101997   74.940002   72.244003  17357700.0   \n",
       "2021-12-31  566.210022  539.489990  552.549988  563.000000   9800600.0   \n",
       "2022-12-31  653.919983  620.570007  623.849976  628.159973  15833500.0   \n",
       "\n",
       "             Adj Close  \n",
       "Date                    \n",
       "2017-12-31   59.852001  \n",
       "2018-12-31   50.112000  \n",
       "2019-12-31   35.793999  \n",
       "2020-12-31   72.244003  \n",
       "2021-12-31  563.000000  \n",
       "2022-12-31  628.159973  "
      ]
     },
     "execution_count": 96,
     "metadata": {},
     "output_type": "execute_result"
    }
   ],
   "source": [
    "df_tesla.resample(rule='A').min()\n",
    "#Rule a is year end frequency\n",
    "#We found the min price on the last day of every year"
   ]
  },
  {
   "cell_type": "code",
   "execution_count": 98,
   "id": "d923e8fc",
   "metadata": {
    "scrolled": true
   },
   "outputs": [
    {
     "data": {
      "text/html": [
       "<div>\n",
       "<style scoped>\n",
       "    .dataframe tbody tr th:only-of-type {\n",
       "        vertical-align: middle;\n",
       "    }\n",
       "\n",
       "    .dataframe tbody tr th {\n",
       "        vertical-align: top;\n",
       "    }\n",
       "\n",
       "    .dataframe thead th {\n",
       "        text-align: right;\n",
       "    }\n",
       "</style>\n",
       "<table border=\"1\" class=\"dataframe\">\n",
       "  <thead>\n",
       "    <tr style=\"text-align: right;\">\n",
       "      <th></th>\n",
       "      <th>High</th>\n",
       "      <th>Low</th>\n",
       "      <th>Open</th>\n",
       "      <th>Close</th>\n",
       "      <th>Volume</th>\n",
       "      <th>Adj Close</th>\n",
       "    </tr>\n",
       "    <tr>\n",
       "      <th>Date</th>\n",
       "      <th></th>\n",
       "      <th></th>\n",
       "      <th></th>\n",
       "      <th></th>\n",
       "      <th></th>\n",
       "      <th></th>\n",
       "    </tr>\n",
       "  </thead>\n",
       "  <tbody>\n",
       "    <tr>\n",
       "      <th>2017-12-31</th>\n",
       "      <td>77.921997</td>\n",
       "      <td>75.536003</td>\n",
       "      <td>76.050003</td>\n",
       "      <td>77.000000</td>\n",
       "      <td>98957000.0</td>\n",
       "      <td>77.000000</td>\n",
       "    </tr>\n",
       "    <tr>\n",
       "      <th>2018-12-31</th>\n",
       "      <td>77.491997</td>\n",
       "      <td>73.424004</td>\n",
       "      <td>75.000000</td>\n",
       "      <td>75.914001</td>\n",
       "      <td>168248500.0</td>\n",
       "      <td>75.914001</td>\n",
       "    </tr>\n",
       "    <tr>\n",
       "      <th>2019-12-31</th>\n",
       "      <td>87.061996</td>\n",
       "      <td>85.269997</td>\n",
       "      <td>87.000000</td>\n",
       "      <td>86.188004</td>\n",
       "      <td>150030500.0</td>\n",
       "      <td>86.188004</td>\n",
       "    </tr>\n",
       "    <tr>\n",
       "      <th>2020-12-31</th>\n",
       "      <td>718.719971</td>\n",
       "      <td>691.119995</td>\n",
       "      <td>699.989990</td>\n",
       "      <td>705.669983</td>\n",
       "      <td>304694000.0</td>\n",
       "      <td>705.669983</td>\n",
       "    </tr>\n",
       "    <tr>\n",
       "      <th>2021-12-31</th>\n",
       "      <td>1243.489990</td>\n",
       "      <td>1217.000000</td>\n",
       "      <td>1234.410034</td>\n",
       "      <td>1229.910034</td>\n",
       "      <td>89396500.0</td>\n",
       "      <td>1229.910034</td>\n",
       "    </tr>\n",
       "    <tr>\n",
       "      <th>2022-12-31</th>\n",
       "      <td>1208.000000</td>\n",
       "      <td>1136.040039</td>\n",
       "      <td>1189.550049</td>\n",
       "      <td>1199.780029</td>\n",
       "      <td>50521900.0</td>\n",
       "      <td>1199.780029</td>\n",
       "    </tr>\n",
       "  </tbody>\n",
       "</table>\n",
       "</div>"
      ],
      "text/plain": [
       "                   High          Low         Open        Close       Volume  \\\n",
       "Date                                                                          \n",
       "2017-12-31    77.921997    75.536003    76.050003    77.000000   98957000.0   \n",
       "2018-12-31    77.491997    73.424004    75.000000    75.914001  168248500.0   \n",
       "2019-12-31    87.061996    85.269997    87.000000    86.188004  150030500.0   \n",
       "2020-12-31   718.719971   691.119995   699.989990   705.669983  304694000.0   \n",
       "2021-12-31  1243.489990  1217.000000  1234.410034  1229.910034   89396500.0   \n",
       "2022-12-31  1208.000000  1136.040039  1189.550049  1199.780029   50521900.0   \n",
       "\n",
       "              Adj Close  \n",
       "Date                     \n",
       "2017-12-31    77.000000  \n",
       "2018-12-31    75.914001  \n",
       "2019-12-31    86.188004  \n",
       "2020-12-31   705.669983  \n",
       "2021-12-31  1229.910034  \n",
       "2022-12-31  1199.780029  "
      ]
     },
     "execution_count": 98,
     "metadata": {},
     "output_type": "execute_result"
    }
   ],
   "source": [
    "df_tesla.resample(rule='A').max()\n",
    "#We found the max price on the last day of every year"
   ]
  },
  {
   "cell_type": "code",
   "execution_count": 102,
   "id": "6f16ca69",
   "metadata": {
    "scrolled": true
   },
   "outputs": [
    {
     "data": {
      "text/plain": [
       "<AxesSubplot:xlabel='Date'>"
      ]
     },
     "execution_count": 102,
     "metadata": {},
     "output_type": "execute_result"
    },
    {
     "data": {
      "image/png": "[encoded data removed]",
      "text/plain": [
       "<Figure size 1296x576 with 1 Axes>"
      ]
     },
     "metadata": {
      "needs_background": "light"
     },
     "output_type": "display_data"
    }
   ],
   "source": [
    "df_tesla.resample(rule='A').max()['Open'].plot(figsize=(18,8))\n",
    "#We got the rising of the tesla"
   ]
  },
  {
   "cell_type": "code",
   "execution_count": 104,
   "id": "7edb77fe",
   "metadata": {},
   "outputs": [
    {
     "data": {
      "text/plain": [
       "<AxesSubplot:xlabel='Date'>"
      ]
     },
     "execution_count": 104,
     "metadata": {},
     "output_type": "execute_result"
    },
    {
     "data": {
      "image/png": "[encoded data removed]",
      "text/plain": [
       "<Figure size 1296x576 with 1 Axes>"
      ]
     },
     "metadata": {
      "needs_background": "light"
     },
     "output_type": "display_data"
    }
   ],
   "source": [
    "#Quaterly start frequency\n",
    "df_tesla.resample(rule='QS').max()['High'].plot(figsize=(18,8))\n"
   ]
  },
  {
   "cell_type": "code",
   "execution_count": 107,
   "id": "e5d9a48b",
   "metadata": {},
   "outputs": [
    {
     "data": {
      "text/html": [
       "<div>\n",
       "<style scoped>\n",
       "    .dataframe tbody tr th:only-of-type {\n",
       "        vertical-align: middle;\n",
       "    }\n",
       "\n",
       "    .dataframe tbody tr th {\n",
       "        vertical-align: top;\n",
       "    }\n",
       "\n",
       "    .dataframe thead th {\n",
       "        text-align: right;\n",
       "    }\n",
       "</style>\n",
       "<table border=\"1\" class=\"dataframe\">\n",
       "  <thead>\n",
       "    <tr style=\"text-align: right;\">\n",
       "      <th></th>\n",
       "      <th>High</th>\n",
       "      <th>Low</th>\n",
       "      <th>Open</th>\n",
       "      <th>Close</th>\n",
       "      <th>Volume</th>\n",
       "      <th>Adj Close</th>\n",
       "    </tr>\n",
       "    <tr>\n",
       "      <th>Date</th>\n",
       "      <th></th>\n",
       "      <th></th>\n",
       "      <th></th>\n",
       "      <th></th>\n",
       "      <th></th>\n",
       "      <th></th>\n",
       "    </tr>\n",
       "  </thead>\n",
       "  <tbody>\n",
       "    <tr>\n",
       "      <th>2017-12-29</th>\n",
       "      <td>77.921997</td>\n",
       "      <td>75.536003</td>\n",
       "      <td>76.050003</td>\n",
       "      <td>77.000000</td>\n",
       "      <td>98957000.0</td>\n",
       "      <td>77.000000</td>\n",
       "    </tr>\n",
       "    <tr>\n",
       "      <th>2018-12-31</th>\n",
       "      <td>77.491997</td>\n",
       "      <td>73.424004</td>\n",
       "      <td>75.000000</td>\n",
       "      <td>75.914001</td>\n",
       "      <td>168248500.0</td>\n",
       "      <td>75.914001</td>\n",
       "    </tr>\n",
       "    <tr>\n",
       "      <th>2019-12-31</th>\n",
       "      <td>87.061996</td>\n",
       "      <td>85.269997</td>\n",
       "      <td>87.000000</td>\n",
       "      <td>86.188004</td>\n",
       "      <td>150030500.0</td>\n",
       "      <td>86.188004</td>\n",
       "    </tr>\n",
       "    <tr>\n",
       "      <th>2020-12-31</th>\n",
       "      <td>718.719971</td>\n",
       "      <td>691.119995</td>\n",
       "      <td>699.989990</td>\n",
       "      <td>705.669983</td>\n",
       "      <td>304694000.0</td>\n",
       "      <td>705.669983</td>\n",
       "    </tr>\n",
       "    <tr>\n",
       "      <th>2021-12-31</th>\n",
       "      <td>1243.489990</td>\n",
       "      <td>1217.000000</td>\n",
       "      <td>1234.410034</td>\n",
       "      <td>1229.910034</td>\n",
       "      <td>89396500.0</td>\n",
       "      <td>1229.910034</td>\n",
       "    </tr>\n",
       "    <tr>\n",
       "      <th>2022-12-30</th>\n",
       "      <td>1208.000000</td>\n",
       "      <td>1136.040039</td>\n",
       "      <td>1189.550049</td>\n",
       "      <td>1199.780029</td>\n",
       "      <td>50521900.0</td>\n",
       "      <td>1199.780029</td>\n",
       "    </tr>\n",
       "  </tbody>\n",
       "</table>\n",
       "</div>"
      ],
      "text/plain": [
       "                   High          Low         Open        Close       Volume  \\\n",
       "Date                                                                          \n",
       "2017-12-29    77.921997    75.536003    76.050003    77.000000   98957000.0   \n",
       "2018-12-31    77.491997    73.424004    75.000000    75.914001  168248500.0   \n",
       "2019-12-31    87.061996    85.269997    87.000000    86.188004  150030500.0   \n",
       "2020-12-31   718.719971   691.119995   699.989990   705.669983  304694000.0   \n",
       "2021-12-31  1243.489990  1217.000000  1234.410034  1229.910034   89396500.0   \n",
       "2022-12-30  1208.000000  1136.040039  1189.550049  1199.780029   50521900.0   \n",
       "\n",
       "              Adj Close  \n",
       "Date                     \n",
       "2017-12-29    77.000000  \n",
       "2018-12-31    75.914001  \n",
       "2019-12-31    86.188004  \n",
       "2020-12-31   705.669983  \n",
       "2021-12-31  1229.910034  \n",
       "2022-12-30  1199.780029  "
      ]
     },
     "execution_count": 107,
     "metadata": {},
     "output_type": "execute_result"
    }
   ],
   "source": [
    "#Business end frequency\n",
    "df_tesla.resample(rule='BA').max()\n"
   ]
  },
  {
   "cell_type": "code",
   "execution_count": 108,
   "id": "20277d90",
   "metadata": {},
   "outputs": [
    {
     "data": {
      "text/plain": [
       "<AxesSubplot:xlabel='Date'>"
      ]
     },
     "execution_count": 108,
     "metadata": {},
     "output_type": "execute_result"
    },
    {
     "data": {
      "image/png": "[encoded data removed]",
      "text/plain": [
       "<Figure size 432x288 with 1 Axes>"
      ]
     },
     "metadata": {
      "needs_background": "light"
     },
     "output_type": "display_data"
    }
   ],
   "source": [
    "df_tesla['Open'].resample(rule='BA').mean().plot(kind='bar')"
   ]
  },
  {
   "cell_type": "code",
   "execution_count": 110,
   "id": "4a442e99",
   "metadata": {},
   "outputs": [
    {
     "data": {
      "text/plain": [
       "<AxesSubplot:xlabel='Date'>"
      ]
     },
     "execution_count": 110,
     "metadata": {},
     "output_type": "execute_result"
    },
    {
     "data": {
      "image/png": "[encoded data removed]",
      "text/plain": [
       "<Figure size 1296x576 with 1 Axes>"
      ]
     },
     "metadata": {
      "needs_background": "light"
     },
     "output_type": "display_data"
    }
   ],
   "source": [
    "df_tesla['Open'].resample(rule='M').mean().plot(kind='bar', figsize=(18,8))\n",
    "#Role of every month"
   ]
  },
  {
   "cell_type": "code",
   "execution_count": null,
   "id": "4196f9fb",
   "metadata": {},
   "outputs": [],
   "source": [
    "df_tesla.rolling(\n",
    "    window: 'Union[int, timedelta, BaseOffset, BaseIndexer]',\n",
    "    min_periods: 'Optional[int]' = None,\n",
    "    center: 'bool_t' = False,\n",
    "    win_type: 'Optional[str]' = None,\n",
    "    on: 'Optional[str]' = None,\n",
    "    axis: 'Axis' = 0,\n",
    "    closed: 'Optional[str]' = None,\n",
    ")"
   ]
  },
  {
   "cell_type": "code",
   "execution_count": 114,
   "id": "ef5d8e64",
   "metadata": {},
   "outputs": [
    {
     "data": {
      "text/html": [
       "<div>\n",
       "<style scoped>\n",
       "    .dataframe tbody tr th:only-of-type {\n",
       "        vertical-align: middle;\n",
       "    }\n",
       "\n",
       "    .dataframe tbody tr th {\n",
       "        vertical-align: top;\n",
       "    }\n",
       "\n",
       "    .dataframe thead th {\n",
       "        text-align: right;\n",
       "    }\n",
       "</style>\n",
       "<table border=\"1\" class=\"dataframe\">\n",
       "  <thead>\n",
       "    <tr style=\"text-align: right;\">\n",
       "      <th></th>\n",
       "      <th>High</th>\n",
       "      <th>Low</th>\n",
       "      <th>Open</th>\n",
       "      <th>Close</th>\n",
       "      <th>Volume</th>\n",
       "      <th>Adj Close</th>\n",
       "    </tr>\n",
       "    <tr>\n",
       "      <th>Date</th>\n",
       "      <th></th>\n",
       "      <th></th>\n",
       "      <th></th>\n",
       "      <th></th>\n",
       "      <th></th>\n",
       "      <th></th>\n",
       "    </tr>\n",
       "  </thead>\n",
       "  <tbody>\n",
       "    <tr>\n",
       "      <th>2017-09-11</th>\n",
       "      <td>72.741997</td>\n",
       "      <td>70.000000</td>\n",
       "      <td>70.269997</td>\n",
       "      <td>72.737999</td>\n",
       "      <td>38335500.0</td>\n",
       "      <td>72.737999</td>\n",
       "    </tr>\n",
       "    <tr>\n",
       "      <th>2017-09-12</th>\n",
       "      <td>73.751999</td>\n",
       "      <td>72.080002</td>\n",
       "      <td>72.898003</td>\n",
       "      <td>72.550003</td>\n",
       "      <td>29864500.0</td>\n",
       "      <td>72.550003</td>\n",
       "    </tr>\n",
       "    <tr>\n",
       "      <th>2017-09-13</th>\n",
       "      <td>73.613998</td>\n",
       "      <td>71.917999</td>\n",
       "      <td>72.764000</td>\n",
       "      <td>73.246002</td>\n",
       "      <td>20926000.0</td>\n",
       "      <td>73.246002</td>\n",
       "    </tr>\n",
       "    <tr>\n",
       "      <th>2017-09-14</th>\n",
       "      <td>75.592003</td>\n",
       "      <td>72.526001</td>\n",
       "      <td>72.865997</td>\n",
       "      <td>75.528000</td>\n",
       "      <td>36012500.0</td>\n",
       "      <td>75.528000</td>\n",
       "    </tr>\n",
       "    <tr>\n",
       "      <th>2017-09-15</th>\n",
       "      <td>76.000000</td>\n",
       "      <td>74.540001</td>\n",
       "      <td>74.902000</td>\n",
       "      <td>75.961998</td>\n",
       "      <td>27102500.0</td>\n",
       "      <td>75.961998</td>\n",
       "    </tr>\n",
       "  </tbody>\n",
       "</table>\n",
       "</div>"
      ],
      "text/plain": [
       "                 High        Low       Open      Close      Volume  Adj Close\n",
       "Date                                                                         \n",
       "2017-09-11  72.741997  70.000000  70.269997  72.737999  38335500.0  72.737999\n",
       "2017-09-12  73.751999  72.080002  72.898003  72.550003  29864500.0  72.550003\n",
       "2017-09-13  73.613998  71.917999  72.764000  73.246002  20926000.0  73.246002\n",
       "2017-09-14  75.592003  72.526001  72.865997  75.528000  36012500.0  75.528000\n",
       "2017-09-15  76.000000  74.540001  74.902000  75.961998  27102500.0  75.961998"
      ]
     },
     "execution_count": 114,
     "metadata": {},
     "output_type": "execute_result"
    }
   ],
   "source": [
    "df_tesla.head()"
   ]
  },
  {
   "cell_type": "code",
   "execution_count": 115,
   "id": "7ab32643",
   "metadata": {
    "scrolled": true
   },
   "outputs": [
    {
     "data": {
      "text/plain": [
       "Date\n",
       "2017-09-11          NaN\n",
       "2017-09-12          NaN\n",
       "2017-09-13          NaN\n",
       "2017-09-14          NaN\n",
       "2017-09-15          NaN\n",
       "2017-09-18          NaN\n",
       "2017-09-19          NaN\n",
       "2017-09-20          NaN\n",
       "2017-09-21          NaN\n",
       "2017-09-22    75.109599\n",
       "2017-09-25    74.984800\n",
       "2017-09-26    74.634400\n",
       "2017-09-27    74.302800\n",
       "2017-09-28    73.598600\n",
       "2017-09-29    72.892200\n",
       "2017-10-02    71.974000\n",
       "2017-10-03    71.297200\n",
       "2017-10-04    70.904600\n",
       "2017-10-05    70.516800\n",
       "2017-10-06    70.320799\n",
       "Name: High, dtype: float64"
      ]
     },
     "execution_count": 115,
     "metadata": {},
     "output_type": "execute_result"
    }
   ],
   "source": [
    "df_tesla['High'].rolling(10).mean().head(20)\n",
    "#first  10 records we skip and  find the mean for the rest"
   ]
  },
  {
   "cell_type": "code",
   "execution_count": 117,
   "id": "cc0d2061",
   "metadata": {},
   "outputs": [
    {
     "data": {
      "text/plain": [
       "Date\n",
       "2017-09-11          NaN\n",
       "2017-09-12          NaN\n",
       "2017-09-13          NaN\n",
       "2017-09-14          NaN\n",
       "2017-09-15          NaN\n",
       "2017-09-18          NaN\n",
       "2017-09-19          NaN\n",
       "2017-09-20          NaN\n",
       "2017-09-21          NaN\n",
       "2017-09-22    75.536003\n",
       "2017-09-25    75.536003\n",
       "2017-09-26    75.536003\n",
       "2017-09-27    75.536003\n",
       "2017-09-28    75.536003\n",
       "2017-09-29    75.536003\n",
       "2017-10-02    74.713997\n",
       "2017-10-03    74.213997\n",
       "2017-10-04    72.902000\n",
       "2017-10-05    70.269997\n",
       "2017-10-06    70.449997\n",
       "Name: Low, dtype: float64"
      ]
     },
     "execution_count": 117,
     "metadata": {},
     "output_type": "execute_result"
    }
   ],
   "source": [
    "df_tesla['Low'].rolling(10).max().head(20)\n"
   ]
  },
  {
   "cell_type": "code",
   "execution_count": 120,
   "id": "1aad818a",
   "metadata": {},
   "outputs": [],
   "source": [
    "#adding the 30 days rolling\n",
    "df_tesla['Open:30 days rolling'] = df_tesla['High'].rolling(30).mean()\n"
   ]
  },
  {
   "cell_type": "code",
   "execution_count": 121,
   "id": "58248d6c",
   "metadata": {},
   "outputs": [
    {
     "data": {
      "text/html": [
       "<div>\n",
       "<style scoped>\n",
       "    .dataframe tbody tr th:only-of-type {\n",
       "        vertical-align: middle;\n",
       "    }\n",
       "\n",
       "    .dataframe tbody tr th {\n",
       "        vertical-align: top;\n",
       "    }\n",
       "\n",
       "    .dataframe thead th {\n",
       "        text-align: right;\n",
       "    }\n",
       "</style>\n",
       "<table border=\"1\" class=\"dataframe\">\n",
       "  <thead>\n",
       "    <tr style=\"text-align: right;\">\n",
       "      <th></th>\n",
       "      <th>High</th>\n",
       "      <th>Low</th>\n",
       "      <th>Open</th>\n",
       "      <th>Close</th>\n",
       "      <th>Volume</th>\n",
       "      <th>Adj Close</th>\n",
       "      <th>Open:30 days rolling</th>\n",
       "    </tr>\n",
       "    <tr>\n",
       "      <th>Date</th>\n",
       "      <th></th>\n",
       "      <th></th>\n",
       "      <th></th>\n",
       "      <th></th>\n",
       "      <th></th>\n",
       "      <th></th>\n",
       "      <th></th>\n",
       "    </tr>\n",
       "  </thead>\n",
       "  <tbody>\n",
       "    <tr>\n",
       "      <th>2017-09-11</th>\n",
       "      <td>72.741997</td>\n",
       "      <td>70.000000</td>\n",
       "      <td>70.269997</td>\n",
       "      <td>72.737999</td>\n",
       "      <td>38335500.0</td>\n",
       "      <td>72.737999</td>\n",
       "      <td>NaN</td>\n",
       "    </tr>\n",
       "    <tr>\n",
       "      <th>2017-09-12</th>\n",
       "      <td>73.751999</td>\n",
       "      <td>72.080002</td>\n",
       "      <td>72.898003</td>\n",
       "      <td>72.550003</td>\n",
       "      <td>29864500.0</td>\n",
       "      <td>72.550003</td>\n",
       "      <td>NaN</td>\n",
       "    </tr>\n",
       "    <tr>\n",
       "      <th>2017-09-13</th>\n",
       "      <td>73.613998</td>\n",
       "      <td>71.917999</td>\n",
       "      <td>72.764000</td>\n",
       "      <td>73.246002</td>\n",
       "      <td>20926000.0</td>\n",
       "      <td>73.246002</td>\n",
       "      <td>NaN</td>\n",
       "    </tr>\n",
       "    <tr>\n",
       "      <th>2017-09-14</th>\n",
       "      <td>75.592003</td>\n",
       "      <td>72.526001</td>\n",
       "      <td>72.865997</td>\n",
       "      <td>75.528000</td>\n",
       "      <td>36012500.0</td>\n",
       "      <td>75.528000</td>\n",
       "      <td>NaN</td>\n",
       "    </tr>\n",
       "    <tr>\n",
       "      <th>2017-09-15</th>\n",
       "      <td>76.000000</td>\n",
       "      <td>74.540001</td>\n",
       "      <td>74.902000</td>\n",
       "      <td>75.961998</td>\n",
       "      <td>27102500.0</td>\n",
       "      <td>75.961998</td>\n",
       "      <td>NaN</td>\n",
       "    </tr>\n",
       "    <tr>\n",
       "      <th>2017-09-18</th>\n",
       "      <td>77.921997</td>\n",
       "      <td>75.536003</td>\n",
       "      <td>76.050003</td>\n",
       "      <td>77.000000</td>\n",
       "      <td>35940000.0</td>\n",
       "      <td>77.000000</td>\n",
       "      <td>NaN</td>\n",
       "    </tr>\n",
       "    <tr>\n",
       "      <th>2017-09-19</th>\n",
       "      <td>76.477997</td>\n",
       "      <td>74.713997</td>\n",
       "      <td>76.000000</td>\n",
       "      <td>75.019997</td>\n",
       "      <td>32259500.0</td>\n",
       "      <td>75.019997</td>\n",
       "      <td>NaN</td>\n",
       "    </tr>\n",
       "    <tr>\n",
       "      <th>2017-09-20</th>\n",
       "      <td>75.650002</td>\n",
       "      <td>74.213997</td>\n",
       "      <td>74.599998</td>\n",
       "      <td>74.781998</td>\n",
       "      <td>24595500.0</td>\n",
       "      <td>74.781998</td>\n",
       "      <td>NaN</td>\n",
       "    </tr>\n",
       "    <tr>\n",
       "      <th>2017-09-21</th>\n",
       "      <td>75.365997</td>\n",
       "      <td>72.902000</td>\n",
       "      <td>74.980003</td>\n",
       "      <td>73.295998</td>\n",
       "      <td>23091000.0</td>\n",
       "      <td>73.295998</td>\n",
       "      <td>NaN</td>\n",
       "    </tr>\n",
       "    <tr>\n",
       "      <th>2017-09-22</th>\n",
       "      <td>73.980003</td>\n",
       "      <td>70.176003</td>\n",
       "      <td>73.297997</td>\n",
       "      <td>70.218002</td>\n",
       "      <td>40797000.0</td>\n",
       "      <td>70.218002</td>\n",
       "      <td>NaN</td>\n",
       "    </tr>\n",
       "    <tr>\n",
       "      <th>2017-09-25</th>\n",
       "      <td>71.494003</td>\n",
       "      <td>68.575996</td>\n",
       "      <td>70.629997</td>\n",
       "      <td>68.998001</td>\n",
       "      <td>38029500.0</td>\n",
       "      <td>68.998001</td>\n",
       "      <td>NaN</td>\n",
       "    </tr>\n",
       "    <tr>\n",
       "      <th>2017-09-26</th>\n",
       "      <td>70.248001</td>\n",
       "      <td>68.180000</td>\n",
       "      <td>70.185997</td>\n",
       "      <td>69.050003</td>\n",
       "      <td>35781500.0</td>\n",
       "      <td>69.050003</td>\n",
       "      <td>NaN</td>\n",
       "    </tr>\n",
       "    <tr>\n",
       "      <th>2017-09-27</th>\n",
       "      <td>70.297997</td>\n",
       "      <td>68.099998</td>\n",
       "      <td>69.980003</td>\n",
       "      <td>68.194000</td>\n",
       "      <td>30301500.0</td>\n",
       "      <td>68.194000</td>\n",
       "      <td>NaN</td>\n",
       "    </tr>\n",
       "    <tr>\n",
       "      <th>2017-09-28</th>\n",
       "      <td>68.550003</td>\n",
       "      <td>67.080002</td>\n",
       "      <td>67.975998</td>\n",
       "      <td>67.919998</td>\n",
       "      <td>26598000.0</td>\n",
       "      <td>67.919998</td>\n",
       "      <td>NaN</td>\n",
       "    </tr>\n",
       "    <tr>\n",
       "      <th>2017-09-29</th>\n",
       "      <td>68.935997</td>\n",
       "      <td>67.720001</td>\n",
       "      <td>68.372002</td>\n",
       "      <td>68.220001</td>\n",
       "      <td>25535500.0</td>\n",
       "      <td>68.220001</td>\n",
       "      <td>NaN</td>\n",
       "    </tr>\n",
       "    <tr>\n",
       "      <th>2017-10-02</th>\n",
       "      <td>68.739998</td>\n",
       "      <td>67.101997</td>\n",
       "      <td>68.503998</td>\n",
       "      <td>68.306000</td>\n",
       "      <td>26434000.0</td>\n",
       "      <td>68.306000</td>\n",
       "      <td>NaN</td>\n",
       "    </tr>\n",
       "    <tr>\n",
       "      <th>2017-10-03</th>\n",
       "      <td>69.709999</td>\n",
       "      <td>66.255997</td>\n",
       "      <td>67.180000</td>\n",
       "      <td>69.627998</td>\n",
       "      <td>50768000.0</td>\n",
       "      <td>69.627998</td>\n",
       "      <td>NaN</td>\n",
       "    </tr>\n",
       "    <tr>\n",
       "      <th>2017-10-04</th>\n",
       "      <td>71.723999</td>\n",
       "      <td>69.919998</td>\n",
       "      <td>70.250000</td>\n",
       "      <td>71.001999</td>\n",
       "      <td>40817500.0</td>\n",
       "      <td>71.001999</td>\n",
       "      <td>NaN</td>\n",
       "    </tr>\n",
       "    <tr>\n",
       "      <th>2017-10-05</th>\n",
       "      <td>71.487999</td>\n",
       "      <td>70.269997</td>\n",
       "      <td>71.199997</td>\n",
       "      <td>71.066002</td>\n",
       "      <td>20858500.0</td>\n",
       "      <td>71.066002</td>\n",
       "      <td>NaN</td>\n",
       "    </tr>\n",
       "    <tr>\n",
       "      <th>2017-10-06</th>\n",
       "      <td>72.019997</td>\n",
       "      <td>70.449997</td>\n",
       "      <td>70.620003</td>\n",
       "      <td>71.375999</td>\n",
       "      <td>21487500.0</td>\n",
       "      <td>71.375999</td>\n",
       "      <td>NaN</td>\n",
       "    </tr>\n",
       "    <tr>\n",
       "      <th>2017-10-09</th>\n",
       "      <td>70.349998</td>\n",
       "      <td>68.533997</td>\n",
       "      <td>69.930000</td>\n",
       "      <td>68.587997</td>\n",
       "      <td>37468500.0</td>\n",
       "      <td>68.587997</td>\n",
       "      <td>NaN</td>\n",
       "    </tr>\n",
       "    <tr>\n",
       "      <th>2017-10-10</th>\n",
       "      <td>71.125999</td>\n",
       "      <td>69.106003</td>\n",
       "      <td>69.360001</td>\n",
       "      <td>71.117996</td>\n",
       "      <td>34892500.0</td>\n",
       "      <td>71.117996</td>\n",
       "      <td>NaN</td>\n",
       "    </tr>\n",
       "    <tr>\n",
       "      <th>2017-10-11</th>\n",
       "      <td>71.519997</td>\n",
       "      <td>70.230003</td>\n",
       "      <td>70.778000</td>\n",
       "      <td>70.919998</td>\n",
       "      <td>22504000.0</td>\n",
       "      <td>70.919998</td>\n",
       "      <td>NaN</td>\n",
       "    </tr>\n",
       "    <tr>\n",
       "      <th>2017-10-12</th>\n",
       "      <td>71.956001</td>\n",
       "      <td>70.528000</td>\n",
       "      <td>70.589996</td>\n",
       "      <td>71.136002</td>\n",
       "      <td>20435000.0</td>\n",
       "      <td>71.136002</td>\n",
       "      <td>NaN</td>\n",
       "    </tr>\n",
       "    <tr>\n",
       "      <th>2017-10-13</th>\n",
       "      <td>71.697998</td>\n",
       "      <td>70.736000</td>\n",
       "      <td>71.396004</td>\n",
       "      <td>71.113998</td>\n",
       "      <td>17702500.0</td>\n",
       "      <td>71.113998</td>\n",
       "      <td>NaN</td>\n",
       "    </tr>\n",
       "    <tr>\n",
       "      <th>2017-10-16</th>\n",
       "      <td>70.896004</td>\n",
       "      <td>69.431999</td>\n",
       "      <td>70.751999</td>\n",
       "      <td>70.120003</td>\n",
       "      <td>26877500.0</td>\n",
       "      <td>70.120003</td>\n",
       "      <td>NaN</td>\n",
       "    </tr>\n",
       "    <tr>\n",
       "      <th>2017-10-17</th>\n",
       "      <td>71.244003</td>\n",
       "      <td>70.014000</td>\n",
       "      <td>70.181999</td>\n",
       "      <td>71.150002</td>\n",
       "      <td>16466500.0</td>\n",
       "      <td>71.150002</td>\n",
       "      <td>NaN</td>\n",
       "    </tr>\n",
       "    <tr>\n",
       "      <th>2017-10-18</th>\n",
       "      <td>72.599998</td>\n",
       "      <td>70.825996</td>\n",
       "      <td>71.194000</td>\n",
       "      <td>71.930000</td>\n",
       "      <td>24695500.0</td>\n",
       "      <td>71.930000</td>\n",
       "      <td>NaN</td>\n",
       "    </tr>\n",
       "    <tr>\n",
       "      <th>2017-10-19</th>\n",
       "      <td>71.430000</td>\n",
       "      <td>69.639999</td>\n",
       "      <td>71.112000</td>\n",
       "      <td>70.362000</td>\n",
       "      <td>25309000.0</td>\n",
       "      <td>70.362000</td>\n",
       "      <td>NaN</td>\n",
       "    </tr>\n",
       "    <tr>\n",
       "      <th>2017-10-20</th>\n",
       "      <td>70.910004</td>\n",
       "      <td>68.867996</td>\n",
       "      <td>70.538002</td>\n",
       "      <td>69.019997</td>\n",
       "      <td>24652000.0</td>\n",
       "      <td>69.019997</td>\n",
       "      <td>72.267800</td>\n",
       "    </tr>\n",
       "    <tr>\n",
       "      <th>2017-10-23</th>\n",
       "      <td>69.989998</td>\n",
       "      <td>67.250000</td>\n",
       "      <td>69.975998</td>\n",
       "      <td>67.403999</td>\n",
       "      <td>28736500.0</td>\n",
       "      <td>67.403999</td>\n",
       "      <td>72.176066</td>\n",
       "    </tr>\n",
       "    <tr>\n",
       "      <th>2017-10-24</th>\n",
       "      <td>68.559998</td>\n",
       "      <td>67.232002</td>\n",
       "      <td>67.760002</td>\n",
       "      <td>67.468002</td>\n",
       "      <td>22458500.0</td>\n",
       "      <td>67.468002</td>\n",
       "      <td>72.003000</td>\n",
       "    </tr>\n",
       "    <tr>\n",
       "      <th>2017-10-25</th>\n",
       "      <td>67.500000</td>\n",
       "      <td>64.711998</td>\n",
       "      <td>67.339996</td>\n",
       "      <td>65.167999</td>\n",
       "      <td>42970500.0</td>\n",
       "      <td>65.167999</td>\n",
       "      <td>71.799200</td>\n",
       "    </tr>\n",
       "    <tr>\n",
       "      <th>2017-10-26</th>\n",
       "      <td>66.045998</td>\n",
       "      <td>64.639999</td>\n",
       "      <td>65.556000</td>\n",
       "      <td>65.234001</td>\n",
       "      <td>25117500.0</td>\n",
       "      <td>65.234001</td>\n",
       "      <td>71.481000</td>\n",
       "    </tr>\n",
       "    <tr>\n",
       "      <th>2017-10-27</th>\n",
       "      <td>64.917999</td>\n",
       "      <td>63.332001</td>\n",
       "      <td>63.950001</td>\n",
       "      <td>64.174004</td>\n",
       "      <td>34898500.0</td>\n",
       "      <td>64.174004</td>\n",
       "      <td>71.111599</td>\n",
       "    </tr>\n",
       "    <tr>\n",
       "      <th>2017-10-30</th>\n",
       "      <td>64.755997</td>\n",
       "      <td>63.450001</td>\n",
       "      <td>63.835999</td>\n",
       "      <td>64.015999</td>\n",
       "      <td>21272000.0</td>\n",
       "      <td>64.015999</td>\n",
       "      <td>70.672733</td>\n",
       "    </tr>\n",
       "    <tr>\n",
       "      <th>2017-10-31</th>\n",
       "      <td>66.389999</td>\n",
       "      <td>64.036003</td>\n",
       "      <td>64.045998</td>\n",
       "      <td>66.306000</td>\n",
       "      <td>28361500.0</td>\n",
       "      <td>66.306000</td>\n",
       "      <td>70.336466</td>\n",
       "    </tr>\n",
       "    <tr>\n",
       "      <th>2017-11-01</th>\n",
       "      <td>66.522003</td>\n",
       "      <td>64.052002</td>\n",
       "      <td>66.449997</td>\n",
       "      <td>64.216003</td>\n",
       "      <td>42286500.0</td>\n",
       "      <td>64.216003</td>\n",
       "      <td>70.032200</td>\n",
       "    </tr>\n",
       "    <tr>\n",
       "      <th>2017-11-02</th>\n",
       "      <td>61.737999</td>\n",
       "      <td>58.526001</td>\n",
       "      <td>60.026001</td>\n",
       "      <td>59.852001</td>\n",
       "      <td>98957000.0</td>\n",
       "      <td>59.852001</td>\n",
       "      <td>69.577933</td>\n",
       "    </tr>\n",
       "    <tr>\n",
       "      <th>2017-11-03</th>\n",
       "      <td>61.250000</td>\n",
       "      <td>59.026001</td>\n",
       "      <td>59.900002</td>\n",
       "      <td>61.217999</td>\n",
       "      <td>44470000.0</td>\n",
       "      <td>61.217999</td>\n",
       "      <td>69.153600</td>\n",
       "    </tr>\n",
       "  </tbody>\n",
       "</table>\n",
       "</div>"
      ],
      "text/plain": [
       "                 High        Low       Open      Close      Volume  Adj Close  \\\n",
       "Date                                                                            \n",
       "2017-09-11  72.741997  70.000000  70.269997  72.737999  38335500.0  72.737999   \n",
       "2017-09-12  73.751999  72.080002  72.898003  72.550003  29864500.0  72.550003   \n",
       "2017-09-13  73.613998  71.917999  72.764000  73.246002  20926000.0  73.246002   \n",
       "2017-09-14  75.592003  72.526001  72.865997  75.528000  36012500.0  75.528000   \n",
       "2017-09-15  76.000000  74.540001  74.902000  75.961998  27102500.0  75.961998   \n",
       "2017-09-18  77.921997  75.536003  76.050003  77.000000  35940000.0  77.000000   \n",
       "2017-09-19  76.477997  74.713997  76.000000  75.019997  32259500.0  75.019997   \n",
       "2017-09-20  75.650002  74.213997  74.599998  74.781998  24595500.0  74.781998   \n",
       "2017-09-21  75.365997  72.902000  74.980003  73.295998  23091000.0  73.295998   \n",
       "2017-09-22  73.980003  70.176003  73.297997  70.218002  40797000.0  70.218002   \n",
       "2017-09-25  71.494003  68.575996  70.629997  68.998001  38029500.0  68.998001   \n",
       "2017-09-26  70.248001  68.180000  70.185997  69.050003  35781500.0  69.050003   \n",
       "2017-09-27  70.297997  68.099998  69.980003  68.194000  30301500.0  68.194000   \n",
       "2017-09-28  68.550003  67.080002  67.975998  67.919998  26598000.0  67.919998   \n",
       "2017-09-29  68.935997  67.720001  68.372002  68.220001  25535500.0  68.220001   \n",
       "2017-10-02  68.739998  67.101997  68.503998  68.306000  26434000.0  68.306000   \n",
       "2017-10-03  69.709999  66.255997  67.180000  69.627998  50768000.0  69.627998   \n",
       "2017-10-04  71.723999  69.919998  70.250000  71.001999  40817500.0  71.001999   \n",
       "2017-10-05  71.487999  70.269997  71.199997  71.066002  20858500.0  71.066002   \n",
       "2017-10-06  72.019997  70.449997  70.620003  71.375999  21487500.0  71.375999   \n",
       "2017-10-09  70.349998  68.533997  69.930000  68.587997  37468500.0  68.587997   \n",
       "2017-10-10  71.125999  69.106003  69.360001  71.117996  34892500.0  71.117996   \n",
       "2017-10-11  71.519997  70.230003  70.778000  70.919998  22504000.0  70.919998   \n",
       "2017-10-12  71.956001  70.528000  70.589996  71.136002  20435000.0  71.136002   \n",
       "2017-10-13  71.697998  70.736000  71.396004  71.113998  17702500.0  71.113998   \n",
       "2017-10-16  70.896004  69.431999  70.751999  70.120003  26877500.0  70.120003   \n",
       "2017-10-17  71.244003  70.014000  70.181999  71.150002  16466500.0  71.150002   \n",
       "2017-10-18  72.599998  70.825996  71.194000  71.930000  24695500.0  71.930000   \n",
       "2017-10-19  71.430000  69.639999  71.112000  70.362000  25309000.0  70.362000   \n",
       "2017-10-20  70.910004  68.867996  70.538002  69.019997  24652000.0  69.019997   \n",
       "2017-10-23  69.989998  67.250000  69.975998  67.403999  28736500.0  67.403999   \n",
       "2017-10-24  68.559998  67.232002  67.760002  67.468002  22458500.0  67.468002   \n",
       "2017-10-25  67.500000  64.711998  67.339996  65.167999  42970500.0  65.167999   \n",
       "2017-10-26  66.045998  64.639999  65.556000  65.234001  25117500.0  65.234001   \n",
       "2017-10-27  64.917999  63.332001  63.950001  64.174004  34898500.0  64.174004   \n",
       "2017-10-30  64.755997  63.450001  63.835999  64.015999  21272000.0  64.015999   \n",
       "2017-10-31  66.389999  64.036003  64.045998  66.306000  28361500.0  66.306000   \n",
       "2017-11-01  66.522003  64.052002  66.449997  64.216003  42286500.0  64.216003   \n",
       "2017-11-02  61.737999  58.526001  60.026001  59.852001  98957000.0  59.852001   \n",
       "2017-11-03  61.250000  59.026001  59.900002  61.217999  44470000.0  61.217999   \n",
       "\n",
       "            Open:30 days rolling  \n",
       "Date                              \n",
       "2017-09-11                   NaN  \n",
       "2017-09-12                   NaN  \n",
       "2017-09-13                   NaN  \n",
       "2017-09-14                   NaN  \n",
       "2017-09-15                   NaN  \n",
       "2017-09-18                   NaN  \n",
       "2017-09-19                   NaN  \n",
       "2017-09-20                   NaN  \n",
       "2017-09-21                   NaN  \n",
       "2017-09-22                   NaN  \n",
       "2017-09-25                   NaN  \n",
       "2017-09-26                   NaN  \n",
       "2017-09-27                   NaN  \n",
       "2017-09-28                   NaN  \n",
       "2017-09-29                   NaN  \n",
       "2017-10-02                   NaN  \n",
       "2017-10-03                   NaN  \n",
       "2017-10-04                   NaN  \n",
       "2017-10-05                   NaN  \n",
       "2017-10-06                   NaN  \n",
       "2017-10-09                   NaN  \n",
       "2017-10-10                   NaN  \n",
       "2017-10-11                   NaN  \n",
       "2017-10-12                   NaN  \n",
       "2017-10-13                   NaN  \n",
       "2017-10-16                   NaN  \n",
       "2017-10-17                   NaN  \n",
       "2017-10-18                   NaN  \n",
       "2017-10-19                   NaN  \n",
       "2017-10-20             72.267800  \n",
       "2017-10-23             72.176066  \n",
       "2017-10-24             72.003000  \n",
       "2017-10-25             71.799200  \n",
       "2017-10-26             71.481000  \n",
       "2017-10-27             71.111599  \n",
       "2017-10-30             70.672733  \n",
       "2017-10-31             70.336466  \n",
       "2017-11-01             70.032200  \n",
       "2017-11-02             69.577933  \n",
       "2017-11-03             69.153600  "
      ]
     },
     "execution_count": 121,
     "metadata": {},
     "output_type": "execute_result"
    }
   ],
   "source": [
    "df_tesla.head(40)"
   ]
  },
  {
   "cell_type": "code",
   "execution_count": 123,
   "id": "c39426ea",
   "metadata": {},
   "outputs": [
    {
     "data": {
      "text/plain": [
       "<AxesSubplot:xlabel='Date'>"
      ]
     },
     "execution_count": 123,
     "metadata": {},
     "output_type": "execute_result"
    },
    {
     "data": {
      "image/png": "[encoded data removed]",
      "text/plain": [
       "<Figure size 1296x576 with 1 Axes>"
      ]
     },
     "metadata": {
      "needs_background": "light"
     },
     "output_type": "display_data"
    }
   ],
   "source": [
    "df_tesla[['Open','Open:30 days rolling']].plot(figsize=(18,8))\n",
    "#Orange line is the smoothing line of the input"
   ]
  },
  {
   "cell_type": "markdown",
   "id": "e23a9bd8",
   "metadata": {},
   "source": [
    "### assignment\n",
    "1. Read the microsoft data using pandas data reader\n",
    "2. Get the maximum price of the share from 2017 to 2022\n",
    "3. Which is the date of the highest price of the stock out of that 5 years?---See the news for that day\n",
    "4. Which is the data of the lowest price of the stock?  ---See the news on that day"
   ]
  },
  {
   "cell_type": "code",
   "execution_count": 129,
   "id": "1fdcdf43",
   "metadata": {},
   "outputs": [
    {
     "data": {
      "text/html": [
       "<div>\n",
       "<style scoped>\n",
       "    .dataframe tbody tr th:only-of-type {\n",
       "        vertical-align: middle;\n",
       "    }\n",
       "\n",
       "    .dataframe tbody tr th {\n",
       "        vertical-align: top;\n",
       "    }\n",
       "\n",
       "    .dataframe thead th {\n",
       "        text-align: right;\n",
       "    }\n",
       "</style>\n",
       "<table border=\"1\" class=\"dataframe\">\n",
       "  <thead>\n",
       "    <tr style=\"text-align: right;\">\n",
       "      <th></th>\n",
       "      <th>High</th>\n",
       "      <th>Low</th>\n",
       "      <th>Open</th>\n",
       "      <th>Close</th>\n",
       "      <th>Volume</th>\n",
       "      <th>Adj Close</th>\n",
       "    </tr>\n",
       "    <tr>\n",
       "      <th>Date</th>\n",
       "      <th></th>\n",
       "      <th></th>\n",
       "      <th></th>\n",
       "      <th></th>\n",
       "      <th></th>\n",
       "      <th></th>\n",
       "    </tr>\n",
       "  </thead>\n",
       "  <tbody>\n",
       "    <tr>\n",
       "      <th>2017-08-24</th>\n",
       "      <td>72.860001</td>\n",
       "      <td>72.070000</td>\n",
       "      <td>72.739998</td>\n",
       "      <td>72.690002</td>\n",
       "      <td>17098300.0</td>\n",
       "      <td>68.303131</td>\n",
       "    </tr>\n",
       "    <tr>\n",
       "      <th>2017-08-25</th>\n",
       "      <td>73.349998</td>\n",
       "      <td>72.480003</td>\n",
       "      <td>72.860001</td>\n",
       "      <td>72.820000</td>\n",
       "      <td>12794300.0</td>\n",
       "      <td>68.425278</td>\n",
       "    </tr>\n",
       "    <tr>\n",
       "      <th>2017-08-28</th>\n",
       "      <td>73.089996</td>\n",
       "      <td>72.550003</td>\n",
       "      <td>73.059998</td>\n",
       "      <td>72.830002</td>\n",
       "      <td>14569700.0</td>\n",
       "      <td>68.434700</td>\n",
       "    </tr>\n",
       "    <tr>\n",
       "      <th>2017-08-29</th>\n",
       "      <td>73.160004</td>\n",
       "      <td>72.050003</td>\n",
       "      <td>72.250000</td>\n",
       "      <td>73.050003</td>\n",
       "      <td>11478400.0</td>\n",
       "      <td>68.641434</td>\n",
       "    </tr>\n",
       "    <tr>\n",
       "      <th>2017-08-30</th>\n",
       "      <td>74.209999</td>\n",
       "      <td>72.830002</td>\n",
       "      <td>73.010002</td>\n",
       "      <td>74.010002</td>\n",
       "      <td>16897800.0</td>\n",
       "      <td>69.543480</td>\n",
       "    </tr>\n",
       "  </tbody>\n",
       "</table>\n",
       "</div>"
      ],
      "text/plain": [
       "                 High        Low       Open      Close      Volume  Adj Close\n",
       "Date                                                                         \n",
       "2017-08-24  72.860001  72.070000  72.739998  72.690002  17098300.0  68.303131\n",
       "2017-08-25  73.349998  72.480003  72.860001  72.820000  12794300.0  68.425278\n",
       "2017-08-28  73.089996  72.550003  73.059998  72.830002  14569700.0  68.434700\n",
       "2017-08-29  73.160004  72.050003  72.250000  73.050003  11478400.0  68.641434\n",
       "2017-08-30  74.209999  72.830002  73.010002  74.010002  16897800.0  69.543480"
      ]
     },
     "execution_count": 129,
     "metadata": {},
     "output_type": "execute_result"
    }
   ],
   "source": [
    "#Reading the microsoft data using pandas data reader\n",
    "df_microsoft = pdr.get_data_yahoo('MSFT')\n",
    "df_microsoft.head()"
   ]
  },
  {
   "cell_type": "code",
   "execution_count": 130,
   "id": "cf5560f8",
   "metadata": {},
   "outputs": [
    {
     "data": {
      "text/plain": [
       "(1258, 6)"
      ]
     },
     "execution_count": 130,
     "metadata": {},
     "output_type": "execute_result"
    }
   ],
   "source": [
    "df_microsoft.shape"
   ]
  },
  {
   "cell_type": "code",
   "execution_count": 131,
   "id": "e49b4c22",
   "metadata": {},
   "outputs": [
    {
     "data": {
      "text/html": [
       "<div>\n",
       "<style scoped>\n",
       "    .dataframe tbody tr th:only-of-type {\n",
       "        vertical-align: middle;\n",
       "    }\n",
       "\n",
       "    .dataframe tbody tr th {\n",
       "        vertical-align: top;\n",
       "    }\n",
       "\n",
       "    .dataframe thead th {\n",
       "        text-align: right;\n",
       "    }\n",
       "</style>\n",
       "<table border=\"1\" class=\"dataframe\">\n",
       "  <thead>\n",
       "    <tr style=\"text-align: right;\">\n",
       "      <th></th>\n",
       "      <th>High</th>\n",
       "      <th>Low</th>\n",
       "      <th>Open</th>\n",
       "      <th>Close</th>\n",
       "      <th>Volume</th>\n",
       "      <th>Adj Close</th>\n",
       "    </tr>\n",
       "  </thead>\n",
       "  <tbody>\n",
       "    <tr>\n",
       "      <th>count</th>\n",
       "      <td>1258.000000</td>\n",
       "      <td>1258.000000</td>\n",
       "      <td>1258.000000</td>\n",
       "      <td>1258.000000</td>\n",
       "      <td>1.258000e+03</td>\n",
       "      <td>1258.000000</td>\n",
       "    </tr>\n",
       "    <tr>\n",
       "      <th>mean</th>\n",
       "      <td>184.040859</td>\n",
       "      <td>180.219253</td>\n",
       "      <td>182.191105</td>\n",
       "      <td>182.232305</td>\n",
       "      <td>2.962925e+07</td>\n",
       "      <td>178.678631</td>\n",
       "    </tr>\n",
       "    <tr>\n",
       "      <th>std</th>\n",
       "      <td>79.368094</td>\n",
       "      <td>77.654669</td>\n",
       "      <td>78.547330</td>\n",
       "      <td>78.562261</td>\n",
       "      <td>1.299627e+07</td>\n",
       "      <td>79.580179</td>\n",
       "    </tr>\n",
       "    <tr>\n",
       "      <th>min</th>\n",
       "      <td>72.860001</td>\n",
       "      <td>72.050003</td>\n",
       "      <td>72.250000</td>\n",
       "      <td>72.690002</td>\n",
       "      <td>7.425600e+06</td>\n",
       "      <td>68.303131</td>\n",
       "    </tr>\n",
       "    <tr>\n",
       "      <th>25%</th>\n",
       "      <td>109.262501</td>\n",
       "      <td>107.237503</td>\n",
       "      <td>108.320002</td>\n",
       "      <td>108.212500</td>\n",
       "      <td>2.144992e+07</td>\n",
       "      <td>103.622026</td>\n",
       "    </tr>\n",
       "    <tr>\n",
       "      <th>50%</th>\n",
       "      <td>166.584999</td>\n",
       "      <td>162.440002</td>\n",
       "      <td>164.350006</td>\n",
       "      <td>165.084999</td>\n",
       "      <td>2.633445e+07</td>\n",
       "      <td>161.105881</td>\n",
       "    </tr>\n",
       "    <tr>\n",
       "      <th>75%</th>\n",
       "      <td>255.042500</td>\n",
       "      <td>249.967503</td>\n",
       "      <td>252.084995</td>\n",
       "      <td>252.567505</td>\n",
       "      <td>3.378998e+07</td>\n",
       "      <td>251.166607</td>\n",
       "    </tr>\n",
       "    <tr>\n",
       "      <th>max</th>\n",
       "      <td>349.670013</td>\n",
       "      <td>342.200012</td>\n",
       "      <td>344.619995</td>\n",
       "      <td>343.109985</td>\n",
       "      <td>1.112421e+08</td>\n",
       "      <td>340.882782</td>\n",
       "    </tr>\n",
       "  </tbody>\n",
       "</table>\n",
       "</div>"
      ],
      "text/plain": [
       "              High          Low         Open        Close        Volume  \\\n",
       "count  1258.000000  1258.000000  1258.000000  1258.000000  1.258000e+03   \n",
       "mean    184.040859   180.219253   182.191105   182.232305  2.962925e+07   \n",
       "std      79.368094    77.654669    78.547330    78.562261  1.299627e+07   \n",
       "min      72.860001    72.050003    72.250000    72.690002  7.425600e+06   \n",
       "25%     109.262501   107.237503   108.320002   108.212500  2.144992e+07   \n",
       "50%     166.584999   162.440002   164.350006   165.084999  2.633445e+07   \n",
       "75%     255.042500   249.967503   252.084995   252.567505  3.378998e+07   \n",
       "max     349.670013   342.200012   344.619995   343.109985  1.112421e+08   \n",
       "\n",
       "         Adj Close  \n",
       "count  1258.000000  \n",
       "mean    178.678631  \n",
       "std      79.580179  \n",
       "min      68.303131  \n",
       "25%     103.622026  \n",
       "50%     161.105881  \n",
       "75%     251.166607  \n",
       "max     340.882782  "
      ]
     },
     "execution_count": 131,
     "metadata": {},
     "output_type": "execute_result"
    }
   ],
   "source": [
    "df_microsoft.describe()"
   ]
  },
  {
   "cell_type": "code",
   "execution_count": 147,
   "id": "2be6189a",
   "metadata": {},
   "outputs": [
    {
     "data": {
      "text/plain": [
       "<AxesSubplot:xlabel='Date'>"
      ]
     },
     "execution_count": 147,
     "metadata": {},
     "output_type": "execute_result"
    },
    {
     "data": {
      "image/png": "[encoded data removed]",
      "text/plain": [
       "<Figure size 1296x432 with 1 Axes>"
      ]
     },
     "metadata": {
      "needs_background": "light"
     },
     "output_type": "display_data"
    }
   ],
   "source": [
    "df_microsoft['High'].plot(figsize=(18,6))"
   ]
  },
  {
   "cell_type": "code",
   "execution_count": 148,
   "id": "77a4cbea",
   "metadata": {
    "scrolled": true
   },
   "outputs": [
    {
     "data": {
      "text/plain": [
       "349.6700134277344"
      ]
     },
     "execution_count": 148,
     "metadata": {},
     "output_type": "execute_result"
    }
   ],
   "source": [
    "#Get the maximum price of the share from 2017 to 2022\n",
    "df_microsoft['High'].max()"
   ]
  },
  {
   "cell_type": "code",
   "execution_count": 149,
   "id": "f50dd1ef",
   "metadata": {},
   "outputs": [
    {
     "data": {
      "text/plain": [
       "72.05000305175781"
      ]
     },
     "execution_count": 149,
     "metadata": {},
     "output_type": "execute_result"
    }
   ],
   "source": [
    "#To find the minimum price of the share from 2017 to 2022\n",
    "df_microsoft['Low'].min()"
   ]
  },
  {
   "cell_type": "code",
   "execution_count": 159,
   "id": "ce0022d3",
   "metadata": {
    "scrolled": true
   },
   "outputs": [
    {
     "data": {
      "text/html": [
       "<div>\n",
       "<style scoped>\n",
       "    .dataframe tbody tr th:only-of-type {\n",
       "        vertical-align: middle;\n",
       "    }\n",
       "\n",
       "    .dataframe tbody tr th {\n",
       "        vertical-align: top;\n",
       "    }\n",
       "\n",
       "    .dataframe thead th {\n",
       "        text-align: right;\n",
       "    }\n",
       "</style>\n",
       "<table border=\"1\" class=\"dataframe\">\n",
       "  <thead>\n",
       "    <tr style=\"text-align: right;\">\n",
       "      <th></th>\n",
       "      <th>High</th>\n",
       "      <th>Low</th>\n",
       "      <th>Open</th>\n",
       "      <th>Close</th>\n",
       "      <th>Volume</th>\n",
       "      <th>Adj Close</th>\n",
       "    </tr>\n",
       "    <tr>\n",
       "      <th>Date</th>\n",
       "      <th></th>\n",
       "      <th></th>\n",
       "      <th></th>\n",
       "      <th></th>\n",
       "      <th></th>\n",
       "      <th></th>\n",
       "    </tr>\n",
       "  </thead>\n",
       "  <tbody>\n",
       "    <tr>\n",
       "      <th>2021-11-22</th>\n",
       "      <td>349.670013</td>\n",
       "      <td>339.549988</td>\n",
       "      <td>344.619995</td>\n",
       "      <td>339.829987</td>\n",
       "      <td>31031100.0</td>\n",
       "      <td>337.624084</td>\n",
       "    </tr>\n",
       "  </tbody>\n",
       "</table>\n",
       "</div>"
      ],
      "text/plain": [
       "                  High         Low        Open       Close      Volume  \\\n",
       "Date                                                                     \n",
       "2021-11-22  349.670013  339.549988  344.619995  339.829987  31031100.0   \n",
       "\n",
       "             Adj Close  \n",
       "Date                    \n",
       "2021-11-22  337.624084  "
      ]
     },
     "execution_count": 159,
     "metadata": {},
     "output_type": "execute_result"
    }
   ],
   "source": [
    "#Which is the date of the highest price of the stock out of that 5 years?\n",
    "df_microsoft[df_microsoft['High']==df_microsoft['High'].max()]"
   ]
  },
  {
   "cell_type": "code",
   "execution_count": 160,
   "id": "5c933b28",
   "metadata": {},
   "outputs": [
    {
     "data": {
      "text/html": [
       "<div>\n",
       "<style scoped>\n",
       "    .dataframe tbody tr th:only-of-type {\n",
       "        vertical-align: middle;\n",
       "    }\n",
       "\n",
       "    .dataframe tbody tr th {\n",
       "        vertical-align: top;\n",
       "    }\n",
       "\n",
       "    .dataframe thead th {\n",
       "        text-align: right;\n",
       "    }\n",
       "</style>\n",
       "<table border=\"1\" class=\"dataframe\">\n",
       "  <thead>\n",
       "    <tr style=\"text-align: right;\">\n",
       "      <th></th>\n",
       "      <th>High</th>\n",
       "      <th>Low</th>\n",
       "      <th>Open</th>\n",
       "      <th>Close</th>\n",
       "      <th>Volume</th>\n",
       "      <th>Adj Close</th>\n",
       "    </tr>\n",
       "    <tr>\n",
       "      <th>Date</th>\n",
       "      <th></th>\n",
       "      <th></th>\n",
       "      <th></th>\n",
       "      <th></th>\n",
       "      <th></th>\n",
       "      <th></th>\n",
       "    </tr>\n",
       "  </thead>\n",
       "  <tbody>\n",
       "    <tr>\n",
       "      <th>2017-08-29</th>\n",
       "      <td>73.160004</td>\n",
       "      <td>72.050003</td>\n",
       "      <td>72.25</td>\n",
       "      <td>73.050003</td>\n",
       "      <td>11478400.0</td>\n",
       "      <td>68.641434</td>\n",
       "    </tr>\n",
       "  </tbody>\n",
       "</table>\n",
       "</div>"
      ],
      "text/plain": [
       "                 High        Low   Open      Close      Volume  Adj Close\n",
       "Date                                                                     \n",
       "2017-08-29  73.160004  72.050003  72.25  73.050003  11478400.0  68.641434"
      ]
     },
     "execution_count": 160,
     "metadata": {},
     "output_type": "execute_result"
    }
   ],
   "source": [
    "#Which is the date of the Min price of the stock out of that 5 years?\n",
    "df_microsoft[df_microsoft['Low']==df_microsoft['Low'].min()]"
   ]
  },
  {
   "cell_type": "markdown",
   "id": "7da0735f",
   "metadata": {},
   "source": [
    "## Important basic idea of the time serice data\n",
    "1. Upwards trends\n",
    "2. Stationar data\n",
    "3. Downward data\n",
    "4. Cyclic data"
   ]
  },
  {
   "cell_type": "code",
   "execution_count": null,
   "id": "03b09fcb",
   "metadata": {},
   "outputs": [],
   "source": []
  }
 ],
 "metadata": {
  "kernelspec": {
   "display_name": "Python 3",
   "language": "python",
   "name": "python3"
  },
  "language_info": {
   "codemirror_mode": {
    "name": "ipython",
    "version": 3
   },
   "file_extension": ".py",
   "mimetype": "text/x-python",
   "name": "python",
   "nbconvert_exporter": "python",
   "pygments_lexer": "ipython3",
   "version": "3.8.8"
  }
 },
 "nbformat": 4,
 "nbformat_minor": 5
}
